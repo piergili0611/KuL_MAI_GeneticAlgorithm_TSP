{
 "cells": [
  {
   "cell_type": "code",
   "execution_count": 11,
   "metadata": {},
   "outputs": [
    {
     "name": "stdout",
     "output_type": "stream",
     "text": [
      "Number of folders: 1\n",
      "Created new simulation folder: Results/Sim_2\n"
     ]
    },
    {
     "data": {
      "text/plain": [
       "'Sim_2'"
      ]
     },
     "execution_count": 11,
     "metadata": {},
     "output_type": "execute_result"
    }
   ],
   "source": [
    "import r0818807\n",
    "import os\n",
    "\n",
    "folderpath = 'Data/'\n",
    "filename = 'tour50.csv'\n",
    "final_path = os.path.join(folderpath, filename)\n",
    "a = r0818807.r0818807()\n",
    "a.create_sim_folder(parent_folder='Results/')\n",
    "#a.post_processing_histogram(filename=filename)\n",
    "#a.run(filename=final_path, generateDataSets=False, clusters=False, local_search=True)\n",
    "\n"
   ]
  },
  {
   "cell_type": "code",
   "execution_count": 3,
   "metadata": {},
   "outputs": [],
   "source": [
    "#c.test_k_means_algorithm(filename=filename)\n",
    "#c.run(filename=filename,generateDataSets=False,clusters=False,local_search=True)"
   ]
  },
  {
   "cell_type": "code",
   "execution_count": null,
   "metadata": {},
   "outputs": [],
   "source": []
  },
  {
   "cell_type": "code",
   "execution_count": null,
   "metadata": {},
   "outputs": [],
   "source": []
  }
 ],
 "metadata": {
  "kernelspec": {
   "display_name": "Standard_env",
   "language": "python",
   "name": "python3"
  },
  "language_info": {
   "codemirror_mode": {
    "name": "ipython",
    "version": 3
   },
   "file_extension": ".py",
   "mimetype": "text/x-python",
   "name": "python",
   "nbconvert_exporter": "python",
   "pygments_lexer": "ipython3",
   "version": "3.11.5"
  }
 },
 "nbformat": 4,
 "nbformat_minor": 2
}
