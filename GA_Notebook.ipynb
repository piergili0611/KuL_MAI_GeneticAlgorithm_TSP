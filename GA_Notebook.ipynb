{
 "cells": [
  {
   "cell_type": "code",
   "execution_count": 1,
   "metadata": {},
   "outputs": [
    {
     "name": "stderr",
     "output_type": "stream",
     "text": [
      "c:\\Users\\pierg\\Desktop\\VirtualEnvironments\\Standard_env\\Lib\\site-packages\\numba\\core\\decorators.py:246: RuntimeWarning: nopython is set for njit and is ignored\n",
      "  warnings.warn('nopython is set for njit and is ignored', RuntimeWarning)\n"
     ]
    }
   ],
   "source": [
    "from r0818807 import r0818807"
   ]
  },
  {
   "cell_type": "code",
   "execution_count": null,
   "metadata": {},
   "outputs": [
    {
     "name": "stdout",
     "output_type": "stream",
     "text": [
      "-- Running the algorithm: No generatedDatsSets --\n",
      "\n",
      "---------- KMedoids Clustering: ------\n",
      "Distance matrix: [[     0.           1035.1268646    2921.54307526 ...   6981.44343709\n",
      "    7076.6226353    3464.75448514]\n",
      " [  1066.72099963      0.           2079.75590717 ...   5964.73687071\n",
      "    6542.98596439 100000.        ]\n",
      " [  2623.78777657   2235.86056392      0.         ...   7917.00851413\n",
      "    8909.47677453 100000.        ]\n",
      " ...\n",
      " [  5510.85064474   6006.14124058 100000.         ...      0.\n",
      "  100000.           3127.59132367]\n",
      " [  8097.48972403 100000.           8959.75817131 ...   1563.72519241\n",
      "       0.           4090.95116386]\n",
      " [  2865.85826913   3216.0612889    4849.91878059 ...   3125.84599527\n",
      "    4848.44934617      0.        ]]\n",
      "Cluster assignments: [0 0 0 0 0 0 0 0 0 0 0 0 0 0 0 0 0 0 0 0 0 0 0 0 0 0 0 0 0 0 0 0 0 0 0 0 0\n",
      " 0 0 0 0 0 0 0 0 0 0 0 0 0 0 0 0 0 0 0 0 0 0 0 0 0 0 0 0 0 0 0 0 0 0 0 0 0\n",
      " 0 0 0 0 0 0 0 0 0 0 0 0 0 0 0 0 0 0 0 0 0 0 0 0 0 0 0 0 0 0 0 0 0 0 0 0 0\n",
      " 0 0 0 0 0 0 0 0 0 0 0 0 0 0 0 0 0 0 0 0 0 0 0 0 0 0 0 0 0 0 0 0 0 0 0 0 0\n",
      " 0 0 0 0 0 0 0 0 0 0 0 0 0 0 0 0 0 0 0 0 0 0 0 0 0 0 0 0 0 0 0 0 0 0 0 0 0\n",
      " 0 0 0 0 0 0 0 0 0 0 0 0 0 0 0 0 0 0 0 0 0 0 0 0 0 0 0 0 0 0 0 0 0 0 0 0 0\n",
      " 0 0 0 0 0 0 0 0 0 0 0 0 0 0 0 0 0 0 0 0 0 0 0 0 0 0 0 0 0 0 0 0 0 0 0 0 0\n",
      " 0 0 0 0 0 0 0 0 0 0 0 0 0 0 0 0 0 0 0 0 0 0 0 0 0 0 0 0 0 0 0 0 0 0 0 0 0\n",
      " 0 0 0 0 0 0 0 0 0 0 0 0 0 0 0 0 0 0 0 0 0 0 0 0 0 0 0 0 0 0 0 0 0 0 0 0 0\n",
      " 0 0 0 0 0 0 0 0 0 0 0 0 0 0 0 0 0 0 0 0 0 0 0 0 0 0 0 0 0 0 0 0 0 0 0 0 0\n",
      " 0 0 0 0 0 0 0 0 0 0 0 0 0 0 0 0 0 0 0 0 0 0 0 0 0 0 0 0 0 0 0 0 0 0 0 0 0\n",
      " 0 0 0 0 0 0 0 0 0 0 0 0 0 0 0 0 0 0 0 0 0 0 0 0 0 0 0 0 0 0 0 0 0 0 0 0 0\n",
      " 0 0 0 0 0 0 0 0 0 0 0 0 0 0 0 0 0 0 0 0 0 0 0 0 0 0 0 0 0 0 0 0 0 0 0 0 0\n",
      " 0 0 0 0 0 0 0 0 0 0 0 0 0 0 0 0 0 0 0 0 0 0 0 0 0 0 0 0 0 0 0 0 0 0 0 0 0\n",
      " 0 0 0 0 0 0 0 0 0 0 0 0 0 0 0 0 0 0 0 0 0 0 0 0 0 0 0 0 0 0 0 0 0 0 0 0 0\n",
      " 0 0 0 0 0 0 0 0 0 0 0 0 0 0 0 0 0 0 0 0 0 0 0 0 0 0 0 0 0 0 0 0 0 0 0 0 0\n",
      " 0 0 0 0 0 0 0 0 0 0 0 0 0 0 0 0 0 0 0 0 0 0 0 0 0 0 0 0 0 0 0 0 0 0 0 0 0\n",
      " 0 0 0 0 0 0 0 0 0 0 0 0 0 0 0 0 0 0 0 0 0 0 0 0 0 0 0 0 0 0 0 0 0 0 0 0 0\n",
      " 0 0 0 0 0 0 0 0 0 0 0 0 0 0 0 0 0 0 0 0 0 0 0 0 0 0 0 0 0 0 0 0 0 0 0 0 0\n",
      " 0 0 0 0 0 0 0 0 0 0 0 0 0 0 0 0 0 0 0 0 0 0 0 0 0 0 0 0 0 0 0 0 0 0 0 0 0\n",
      " 0 0 0 0 0 0 0 0 0 0]\n",
      "Cluster medoids: [592]\n",
      "\n",
      "---------- Post Processing Clusters: ------\n",
      "Cluster: {'medoid': 592, 'num_cities': 750, 'assigned_cities': [0, 1, 2, 3, 4, 5, 6, 7, 8, 9, 10, 11, 12, 13, 14, 15, 16, 17, 18, 19, 20, 21, 22, 23, 24, 25, 26, 27, 28, 29, 30, 31, 32, 33, 34, 35, 36, 37, 38, 39, 40, 41, 42, 43, 44, 45, 46, 47, 48, 49, 50, 51, 52, 53, 54, 55, 56, 57, 58, 59, 60, 61, 62, 63, 64, 65, 66, 67, 68, 69, 70, 71, 72, 73, 74, 75, 76, 77, 78, 79, 80, 81, 82, 83, 84, 85, 86, 87, 88, 89, 90, 91, 92, 93, 94, 95, 96, 97, 98, 99, 100, 101, 102, 103, 104, 105, 106, 107, 108, 109, 110, 111, 112, 113, 114, 115, 116, 117, 118, 119, 120, 121, 122, 123, 124, 125, 126, 127, 128, 129, 130, 131, 132, 133, 134, 135, 136, 137, 138, 139, 140, 141, 142, 143, 144, 145, 146, 147, 148, 149, 150, 151, 152, 153, 154, 155, 156, 157, 158, 159, 160, 161, 162, 163, 164, 165, 166, 167, 168, 169, 170, 171, 172, 173, 174, 175, 176, 177, 178, 179, 180, 181, 182, 183, 184, 185, 186, 187, 188, 189, 190, 191, 192, 193, 194, 195, 196, 197, 198, 199, 200, 201, 202, 203, 204, 205, 206, 207, 208, 209, 210, 211, 212, 213, 214, 215, 216, 217, 218, 219, 220, 221, 222, 223, 224, 225, 226, 227, 228, 229, 230, 231, 232, 233, 234, 235, 236, 237, 238, 239, 240, 241, 242, 243, 244, 245, 246, 247, 248, 249, 250, 251, 252, 253, 254, 255, 256, 257, 258, 259, 260, 261, 262, 263, 264, 265, 266, 267, 268, 269, 270, 271, 272, 273, 274, 275, 276, 277, 278, 279, 280, 281, 282, 283, 284, 285, 286, 287, 288, 289, 290, 291, 292, 293, 294, 295, 296, 297, 298, 299, 300, 301, 302, 303, 304, 305, 306, 307, 308, 309, 310, 311, 312, 313, 314, 315, 316, 317, 318, 319, 320, 321, 322, 323, 324, 325, 326, 327, 328, 329, 330, 331, 332, 333, 334, 335, 336, 337, 338, 339, 340, 341, 342, 343, 344, 345, 346, 347, 348, 349, 350, 351, 352, 353, 354, 355, 356, 357, 358, 359, 360, 361, 362, 363, 364, 365, 366, 367, 368, 369, 370, 371, 372, 373, 374, 375, 376, 377, 378, 379, 380, 381, 382, 383, 384, 385, 386, 387, 388, 389, 390, 391, 392, 393, 394, 395, 396, 397, 398, 399, 400, 401, 402, 403, 404, 405, 406, 407, 408, 409, 410, 411, 412, 413, 414, 415, 416, 417, 418, 419, 420, 421, 422, 423, 424, 425, 426, 427, 428, 429, 430, 431, 432, 433, 434, 435, 436, 437, 438, 439, 440, 441, 442, 443, 444, 445, 446, 447, 448, 449, 450, 451, 452, 453, 454, 455, 456, 457, 458, 459, 460, 461, 462, 463, 464, 465, 466, 467, 468, 469, 470, 471, 472, 473, 474, 475, 476, 477, 478, 479, 480, 481, 482, 483, 484, 485, 486, 487, 488, 489, 490, 491, 492, 493, 494, 495, 496, 497, 498, 499, 500, 501, 502, 503, 504, 505, 506, 507, 508, 509, 510, 511, 512, 513, 514, 515, 516, 517, 518, 519, 520, 521, 522, 523, 524, 525, 526, 527, 528, 529, 530, 531, 532, 533, 534, 535, 536, 537, 538, 539, 540, 541, 542, 543, 544, 545, 546, 547, 548, 549, 550, 551, 552, 553, 554, 555, 556, 557, 558, 559, 560, 561, 562, 563, 564, 565, 566, 567, 568, 569, 570, 571, 572, 573, 574, 575, 576, 577, 578, 579, 580, 581, 582, 583, 584, 585, 586, 587, 588, 589, 590, 591, 592, 593, 594, 595, 596, 597, 598, 599, 600, 601, 602, 603, 604, 605, 606, 607, 608, 609, 610, 611, 612, 613, 614, 615, 616, 617, 618, 619, 620, 621, 622, 623, 624, 625, 626, 627, 628, 629, 630, 631, 632, 633, 634, 635, 636, 637, 638, 639, 640, 641, 642, 643, 644, 645, 646, 647, 648, 649, 650, 651, 652, 653, 654, 655, 656, 657, 658, 659, 660, 661, 662, 663, 664, 665, 666, 667, 668, 669, 670, 671, 672, 673, 674, 675, 676, 677, 678, 679, 680, 681, 682, 683, 684, 685, 686, 687, 688, 689, 690, 691, 692, 693, 694, 695, 696, 697, 698, 699, 700, 701, 702, 703, 704, 705, 706, 707, 708, 709, 710, 711, 712, 713, 714, 715, 716, 717, 718, 719, 720, 721, 722, 723, 724, 725, 726, 727, 728, 729, 730, 731, 732, 733, 734, 735, 736, 737, 738, 739, 740, 741, 742, 743, 744, 745, 746, 747, 748, 749], 'intra_cluster_distance': 12840185.396362027}\n",
      "Assigned cities list: [[0, 1, 2, 3, 4, 5, 6, 7, 8, 9, 10, 11, 12, 13, 14, 15, 16, 17, 18, 19, 20, 21, 22, 23, 24, 25, 26, 27, 28, 29, 30, 31, 32, 33, 34, 35, 36, 37, 38, 39, 40, 41, 42, 43, 44, 45, 46, 47, 48, 49, 50, 51, 52, 53, 54, 55, 56, 57, 58, 59, 60, 61, 62, 63, 64, 65, 66, 67, 68, 69, 70, 71, 72, 73, 74, 75, 76, 77, 78, 79, 80, 81, 82, 83, 84, 85, 86, 87, 88, 89, 90, 91, 92, 93, 94, 95, 96, 97, 98, 99, 100, 101, 102, 103, 104, 105, 106, 107, 108, 109, 110, 111, 112, 113, 114, 115, 116, 117, 118, 119, 120, 121, 122, 123, 124, 125, 126, 127, 128, 129, 130, 131, 132, 133, 134, 135, 136, 137, 138, 139, 140, 141, 142, 143, 144, 145, 146, 147, 148, 149, 150, 151, 152, 153, 154, 155, 156, 157, 158, 159, 160, 161, 162, 163, 164, 165, 166, 167, 168, 169, 170, 171, 172, 173, 174, 175, 176, 177, 178, 179, 180, 181, 182, 183, 184, 185, 186, 187, 188, 189, 190, 191, 192, 193, 194, 195, 196, 197, 198, 199, 200, 201, 202, 203, 204, 205, 206, 207, 208, 209, 210, 211, 212, 213, 214, 215, 216, 217, 218, 219, 220, 221, 222, 223, 224, 225, 226, 227, 228, 229, 230, 231, 232, 233, 234, 235, 236, 237, 238, 239, 240, 241, 242, 243, 244, 245, 246, 247, 248, 249, 250, 251, 252, 253, 254, 255, 256, 257, 258, 259, 260, 261, 262, 263, 264, 265, 266, 267, 268, 269, 270, 271, 272, 273, 274, 275, 276, 277, 278, 279, 280, 281, 282, 283, 284, 285, 286, 287, 288, 289, 290, 291, 292, 293, 294, 295, 296, 297, 298, 299, 300, 301, 302, 303, 304, 305, 306, 307, 308, 309, 310, 311, 312, 313, 314, 315, 316, 317, 318, 319, 320, 321, 322, 323, 324, 325, 326, 327, 328, 329, 330, 331, 332, 333, 334, 335, 336, 337, 338, 339, 340, 341, 342, 343, 344, 345, 346, 347, 348, 349, 350, 351, 352, 353, 354, 355, 356, 357, 358, 359, 360, 361, 362, 363, 364, 365, 366, 367, 368, 369, 370, 371, 372, 373, 374, 375, 376, 377, 378, 379, 380, 381, 382, 383, 384, 385, 386, 387, 388, 389, 390, 391, 392, 393, 394, 395, 396, 397, 398, 399, 400, 401, 402, 403, 404, 405, 406, 407, 408, 409, 410, 411, 412, 413, 414, 415, 416, 417, 418, 419, 420, 421, 422, 423, 424, 425, 426, 427, 428, 429, 430, 431, 432, 433, 434, 435, 436, 437, 438, 439, 440, 441, 442, 443, 444, 445, 446, 447, 448, 449, 450, 451, 452, 453, 454, 455, 456, 457, 458, 459, 460, 461, 462, 463, 464, 465, 466, 467, 468, 469, 470, 471, 472, 473, 474, 475, 476, 477, 478, 479, 480, 481, 482, 483, 484, 485, 486, 487, 488, 489, 490, 491, 492, 493, 494, 495, 496, 497, 498, 499, 500, 501, 502, 503, 504, 505, 506, 507, 508, 509, 510, 511, 512, 513, 514, 515, 516, 517, 518, 519, 520, 521, 522, 523, 524, 525, 526, 527, 528, 529, 530, 531, 532, 533, 534, 535, 536, 537, 538, 539, 540, 541, 542, 543, 544, 545, 546, 547, 548, 549, 550, 551, 552, 553, 554, 555, 556, 557, 558, 559, 560, 561, 562, 563, 564, 565, 566, 567, 568, 569, 570, 571, 572, 573, 574, 575, 576, 577, 578, 579, 580, 581, 582, 583, 584, 585, 586, 587, 588, 589, 590, 591, 592, 593, 594, 595, 596, 597, 598, 599, 600, 601, 602, 603, 604, 605, 606, 607, 608, 609, 610, 611, 612, 613, 614, 615, 616, 617, 618, 619, 620, 621, 622, 623, 624, 625, 626, 627, 628, 629, 630, 631, 632, 633, 634, 635, 636, 637, 638, 639, 640, 641, 642, 643, 644, 645, 646, 647, 648, 649, 650, 651, 652, 653, 654, 655, 656, 657, 658, 659, 660, 661, 662, 663, 664, 665, 666, 667, 668, 669, 670, 671, 672, 673, 674, 675, 676, 677, 678, 679, 680, 681, 682, 683, 684, 685, 686, 687, 688, 689, 690, 691, 692, 693, 694, 695, 696, 697, 698, 699, 700, 701, 702, 703, 704, 705, 706, 707, 708, 709, 710, 711, 712, 713, 714, 715, 716, 717, 718, 719, 720, 721, 722, 723, 724, 725, 726, 727, 728, 729, 730, 731, 732, 733, 734, 735, 736, 737, 738, 739, 740, 741, 742, 743, 744, 745, 746, 747, 748, 749]]\n",
      "\n",
      "---------- Generating Distance Matrix for Clusters: ------\n",
      "-- Running the algorithm: generatedDatsSets --\n",
      "\n",
      "Population progress: 0\n",
      "CUrrent index is : 0\n",
      "\n",
      "Population progress: 1\n",
      "CUrrent index is : 1\n",
      "\n",
      "Population progress: 2\n",
      "CUrrent index is : 2\n",
      "\n",
      "Population progress: 3\n",
      "CUrrent index is : 3\n",
      "\n",
      "Population progress: 4\n",
      "\n",
      "Population progress: 4\n",
      "CUrrent index is : 4\n",
      "\n",
      "Population progress: 5\n",
      "CUrrent index is : 5\n",
      "\n",
      "Population progress: 6\n",
      "CUrrent index is : 6\n",
      "\n",
      "Population progress: 7\n",
      "CUrrent index is : 7\n",
      "\n",
      "Population progress: 8\n",
      "CUrrent index is : 8\n",
      "\n",
      "Population progress: 9\n",
      "CUrrent index is : 9\n",
      "\n",
      "Population progress: 10\n",
      "CUrrent index is : 10\n",
      "\n",
      "Population progress: 11\n",
      "CUrrent index is : 11\n",
      "\n",
      "Population progress: 12\n",
      "CUrrent index is : 12\n",
      "\n",
      "Population progress: 13\n",
      "CUrrent index is : 13\n",
      "\n",
      "Population progress: 14\n",
      "\n",
      "Population progress: 14\n",
      "CUrrent index is : 14\n",
      "\n",
      "Initial Population shape: (15, 750)\n",
      "\n",
      "Initial population: [[102 491 328 ... 293 692  58]\n",
      " [ 53 272 465 ... 301 256 487]\n",
      " [572 573 486 ... 258 647 546]\n",
      " ...\n",
      " [134  67 119 ... 183 295 415]\n",
      " [253   7 553 ... 165 363 148]\n",
      " [459 586 360 ... 114  45 744]]\n",
      "Population is valid.\n",
      "\n",
      "------------- GA_Level1: -------------\n",
      "   * Model Info:\n",
      "       - Population Size: 15\n",
      "       - Number of cities: 750\n",
      "       - Cities: [  0   1   2   3   4   5   6   7   8   9  10  11  12  13  14  15  16  17\n",
      "  18  19  20  21  22  23  24  25  26  27  28  29  30  31  32  33  34  35\n",
      "  36  37  38  39  40  41  42  43  44  45  46  47  48  49  50  51  52  53\n",
      "  54  55  56  57  58  59  60  61  62  63  64  65  66  67  68  69  70  71\n",
      "  72  73  74  75  76  77  78  79  80  81  82  83  84  85  86  87  88  89\n",
      "  90  91  92  93  94  95  96  97  98  99 100 101 102 103 104 105 106 107\n",
      " 108 109 110 111 112 113 114 115 116 117 118 119 120 121 122 123 124 125\n",
      " 126 127 128 129 130 131 132 133 134 135 136 137 138 139 140 141 142 143\n",
      " 144 145 146 147 148 149 150 151 152 153 154 155 156 157 158 159 160 161\n",
      " 162 163 164 165 166 167 168 169 170 171 172 173 174 175 176 177 178 179\n",
      " 180 181 182 183 184 185 186 187 188 189 190 191 192 193 194 195 196 197\n",
      " 198 199 200 201 202 203 204 205 206 207 208 209 210 211 212 213 214 215\n",
      " 216 217 218 219 220 221 222 223 224 225 226 227 228 229 230 231 232 233\n",
      " 234 235 236 237 238 239 240 241 242 243 244 245 246 247 248 249 250 251\n",
      " 252 253 254 255 256 257 258 259 260 261 262 263 264 265 266 267 268 269\n",
      " 270 271 272 273 274 275 276 277 278 279 280 281 282 283 284 285 286 287\n",
      " 288 289 290 291 292 293 294 295 296 297 298 299 300 301 302 303 304 305\n",
      " 306 307 308 309 310 311 312 313 314 315 316 317 318 319 320 321 322 323\n",
      " 324 325 326 327 328 329 330 331 332 333 334 335 336 337 338 339 340 341\n",
      " 342 343 344 345 346 347 348 349 350 351 352 353 354 355 356 357 358 359\n",
      " 360 361 362 363 364 365 366 367 368 369 370 371 372 373 374 375 376 377\n",
      " 378 379 380 381 382 383 384 385 386 387 388 389 390 391 392 393 394 395\n",
      " 396 397 398 399 400 401 402 403 404 405 406 407 408 409 410 411 412 413\n",
      " 414 415 416 417 418 419 420 421 422 423 424 425 426 427 428 429 430 431\n",
      " 432 433 434 435 436 437 438 439 440 441 442 443 444 445 446 447 448 449\n",
      " 450 451 452 453 454 455 456 457 458 459 460 461 462 463 464 465 466 467\n",
      " 468 469 470 471 472 473 474 475 476 477 478 479 480 481 482 483 484 485\n",
      " 486 487 488 489 490 491 492 493 494 495 496 497 498 499 500 501 502 503\n",
      " 504 505 506 507 508 509 510 511 512 513 514 515 516 517 518 519 520 521\n",
      " 522 523 524 525 526 527 528 529 530 531 532 533 534 535 536 537 538 539\n",
      " 540 541 542 543 544 545 546 547 548 549 550 551 552 553 554 555 556 557\n",
      " 558 559 560 561 562 563 564 565 566 567 568 569 570 571 572 573 574 575\n",
      " 576 577 578 579 580 581 582 583 584 585 586 587 588 589 590 591 592 593\n",
      " 594 595 596 597 598 599 600 601 602 603 604 605 606 607 608 609 610 611\n",
      " 612 613 614 615 616 617 618 619 620 621 622 623 624 625 626 627 628 629\n",
      " 630 631 632 633 634 635 636 637 638 639 640 641 642 643 644 645 646 647\n",
      " 648 649 650 651 652 653 654 655 656 657 658 659 660 661 662 663 664 665\n",
      " 666 667 668 669 670 671 672 673 674 675 676 677 678 679 680 681 682 683\n",
      " 684 685 686 687 688 689 690 691 692 693 694 695 696 697 698 699 700 701\n",
      " 702 703 704 705 706 707 708 709 710 711 712 713 714 715 716 717 718 719\n",
      " 720 721 722 723 724 725 726 727 728 729 730 731 732 733 734 735 736 737\n",
      " 738 739 740 741 742 743 744 745 746 747 748 749]\n",
      "       - Distance Matrix: [[     0.           1035.1268646    2921.54307526 ...   6981.44343709\n",
      "    7076.6226353    3464.75448514]\n",
      " [  1066.72099963      0.           2079.75590717 ...   5964.73687071\n",
      "    6542.98596439 100000.        ]\n",
      " [  2623.78777657   2235.86056392      0.         ...   7917.00851413\n",
      "    8909.47677453 100000.        ]\n",
      " ...\n",
      " [  5510.85064474   6006.14124058 100000.         ...      0.\n",
      "  100000.           3127.59132367]\n",
      " [  8097.48972403 100000.           8959.75817131 ...   1563.72519241\n",
      "       0.           4090.95116386]\n",
      " [  2865.85826913   3216.0612889    4849.91878059 ...   3125.84599527\n",
      "    4848.44934617      0.        ]]\n",
      "   * Model Parameters:\n",
      "       - K: 3\n",
      "       - Mutation rate: 0.5\n",
      "       - Elitism percentage: 1 %\n",
      "   * Running model:\n",
      "       - Local search: True\n",
      "       - Initial Fitness: [2965127.85012028 2897736.93637967 2983313.20211975 3047985.5080149\n",
      " 3006007.60291723 2971023.66758022 2907460.90575522 2844603.33896044\n",
      " 2877114.31738322 3009666.86556768 2982687.63833694 3008077.22557781\n",
      " 2965494.25008087 2968877.02995933 2928437.1301434 ]\n",
      "\n",
      " Iteration number 1\n",
      "\n",
      "  ----- Local search of teh population--\n",
      "\n",
      " Best n distance from population: [2844603.33896044 2897736.93637967]\n",
      "\n",
      " Max iterations to local search: [10. 10. 10. 10.]\n",
      "\n",
      " ------------LOCAL SEARCH------------\n",
      " Max number of iterations: 10.0\n",
      "\n",
      " ------------LOCAL SEARCH------------\n",
      " Max number of iterations: 10.0\n",
      "\n",
      " ------------LOCAL SEARCH------------\n",
      " Max number of iterations: 10.0\n",
      "\n",
      " ------------LOCAL SEARCH------------\n",
      " Max number of iterations: 10.0\n",
      "\n",
      " LS: Initial Fitness: 2844603.338960442 - Final Fitness: 3100945.654008097 at index: 5\n",
      "\n",
      " LS: Initial Fitness: 7245699.822915796 - Final Fitness: 6321234.901072993 at index: 5\n",
      "\n",
      " LS: Initial Fitness: 2897736.936379671 - Final Fitness: 2960661.607772668 at index: 3\n",
      "\n",
      " LS: Initial Fitness: 5457532.46423342 - Final Fitness: 5853936.294990007 at index: 0\n",
      "\n",
      " ---------------------------------------------------------------------\n",
      "\n",
      " -------------------- Cache before adding entries --------------------\n",
      "\n",
      " ---------------------------------------------------------------------\n",
      "Entry population fitness: [2844603.33896044 2897736.93637967]\n",
      "Entry population iterations: [10. 10.]\n",
      "\n",
      " Case 2: Populating cahe (len < 2). Entry fitness is not in the cache: 2844603.338960442 and the number of iterations is 10.0\n",
      "\n",
      " Case 2: Populating cahe (len < 2). Entry fitness is not in the cache: 2897736.936379671 and the number of iterations is 10.0\n",
      "\n",
      " Cache of the local search is : {2844603.338960442: 10.0, 2897736.936379671: 10.0}\n",
      "\n",
      " Mean Objective --> 7361169.430707916 \n",
      " Best Objective --> 2844603.338960442\n",
      "\n",
      " Iteration number 2\n",
      "\n",
      "  ----- Local search of teh population--\n",
      "\n",
      " Best n distance from population: [2844603.33896044 2965127.85012028]\n",
      "\n",
      " Fitness of the population: 2844603.338960442 already visited, changing max iterations from 10.0 to 110.0\n",
      "\n",
      " Max iterations to local search: [110. 110. 110. 110.]\n",
      "\n",
      " ------------LOCAL SEARCH------------\n",
      " Max number of iterations: 110.0\n",
      "\n",
      " ------------LOCAL SEARCH------------\n",
      " Max number of iterations: 110.0\n",
      "\n",
      " ------------LOCAL SEARCH------------\n",
      " Max number of iterations: 110.0\n",
      "\n",
      " ------------LOCAL SEARCH------------\n",
      " Max number of iterations: 110.0\n",
      "\n",
      " LS: Initial Fitness: 2965127.850120284 - Final Fitness: 2282107.8592402996 at index: 108\n",
      "\n",
      " LS: Initial Fitness: 2844603.338960442 - Final Fitness: 2171410.743557724 at index: 109\n",
      "\n",
      " LS: Initial Fitness: 6572972.762441983 - Final Fitness: 2312432.267067742 at index: 109\n",
      "\n",
      " LS: Initial Fitness: 5855562.2971744435 - Final Fitness: 2250815.988852698 at index: 109\n",
      "\n",
      " ---------------------------------------------------------------------\n",
      "\n",
      " -------------------- Cache before adding entries --------------------\n",
      "\n",
      " ---------------------------------------------------------------------\n",
      "Entry population fitness: [2171410.74355772 2250815.9888527 ]\n",
      "Entry population iterations: [110. 110.]\n",
      "\n",
      " Case 3a: Replacing min fitness. Entry fitness: 2171410.743557724, iterations: 110.0\n",
      "\n",
      " Case 3b: Replacing second smallest fitness. Entry fitness: 2250815.988852698, iterations: 110.0\n",
      "\n",
      " Cache of the local search is : {2171410.743557724: 10, 2250815.988852698: 10}\n",
      "\n",
      " Mean Objective --> 7821457.483830696 \n",
      " Best Objective --> 2171410.743557724\n",
      "\n",
      " Iteration number 3\n",
      "\n",
      "  ----- Local search of teh population--\n",
      "\n",
      " Best n distance from population: [2171410.74355772 2282107.8592403 ]\n",
      "\n",
      " Fitness of the population: 2171410.743557724 already visited, changing max iterations from 10 to 110\n",
      "\n",
      " Max iterations to local search: [110. 110. 110. 110.]\n",
      "\n",
      " ------------LOCAL SEARCH------------\n",
      " Max number of iterations: 110.0\n",
      "\n",
      " ------------LOCAL SEARCH------------\n",
      " Max number of iterations: 110.0\n",
      "\n",
      " ------------LOCAL SEARCH------------\n",
      " Max number of iterations: 110.0\n",
      "\n",
      " ------------LOCAL SEARCH------------\n",
      " Max number of iterations: 110.0\n",
      "\n",
      " LS: Initial Fitness: 3140784.6142236013 - Final Fitness: 1467649.5460495611 at index: 108\n",
      "\n",
      " LS: Initial Fitness: 2171410.743557724 - Final Fitness: 1402934.6229484368 at index: 109\n",
      "\n",
      " LS: Initial Fitness: 2282107.8592402996 - Final Fitness: 1602999.8298469002 at index: 109\n",
      "\n",
      " LS: Initial Fitness: 6582541.778528663 - Final Fitness: 1630851.1451178573 at index: 109\n",
      "\n",
      " ---------------------------------------------------------------------\n",
      "\n",
      " -------------------- Cache before adding entries --------------------\n",
      "\n",
      " ---------------------------------------------------------------------\n",
      "Entry population fitness: [1402934.62294844 1467649.54604956]\n",
      "Entry population iterations: [110. 110.]\n",
      "\n",
      " Case 3a: Replacing min fitness. Entry fitness: 1402934.6229484368, iterations: 110.0\n",
      "\n",
      " Case 3b: Replacing second smallest fitness. Entry fitness: 1467649.5460495611, iterations: 110.0\n",
      "\n",
      " Cache of the local search is : {1402934.6229484368: 10, 1467649.5460495611: 10}\n",
      "\n",
      " Mean Objective --> 6626413.563575674 \n",
      " Best Objective --> 1402934.6229484368\n",
      "\n",
      " Iteration number 4\n",
      "\n",
      "  ----- Local search of teh population--\n",
      "\n",
      " Best n distance from population: [1402934.62294844 1630851.14511786]\n",
      "\n",
      " Fitness of the population: 1402934.6229484368 already visited, changing max iterations from 10 to 110\n",
      "\n",
      " Max iterations to local search: [110. 110. 110. 110.]\n",
      "\n",
      " ------------LOCAL SEARCH------------\n",
      " Max number of iterations: 110.0\n",
      "\n",
      " ------------LOCAL SEARCH------------\n",
      " Max number of iterations: 110.0\n",
      "\n",
      " ------------LOCAL SEARCH------------\n",
      " Max number of iterations: 110.0\n",
      "\n",
      " ------------LOCAL SEARCH------------\n",
      " Max number of iterations: 110.0\n",
      "\n",
      " LS: Initial Fitness: 6415834.538187222 - Final Fitness: 1400951.4514535968 at index: 109\n",
      "\n",
      " LS: Initial Fitness: 7489268.3191267755 - Final Fitness: 1544787.40388231 at index: 105\n",
      "\n",
      " LS: Initial Fitness: 1402934.6229484368 - Final Fitness: 960067.9079846173 at index: 109\n",
      "\n",
      " LS: Initial Fitness: 1630851.1451178573 - Final Fitness: 1125190.6863307927 at index: 109\n",
      "\n",
      " ---------------------------------------------------------------------\n",
      "\n",
      " -------------------- Cache before adding entries --------------------\n",
      "\n",
      " ---------------------------------------------------------------------\n",
      "Entry population fitness: [ 960067.90798462 1125190.68633079]\n",
      "Entry population iterations: [110. 110.]\n",
      "\n",
      " Case 3a: Replacing min fitness. Entry fitness: 960067.9079846173, iterations: 110.0\n",
      "\n",
      " Case 3b: Replacing second smallest fitness. Entry fitness: 1125190.6863307927, iterations: 110.0\n",
      "\n",
      " Cache of the local search is : {960067.9079846173: 10, 1125190.6863307927: 10}\n",
      "\n",
      " Mean Objective --> 8060297.60602243 \n",
      " Best Objective --> 960067.9079846173\n",
      "\n",
      " Iteration number 5\n",
      "\n",
      "  ----- Local search of teh population--\n",
      "\n",
      " Best n distance from population: [ 960067.90798462 1125190.68633079]\n",
      "\n",
      " Fitness of the population: 960067.9079846173 already visited, changing max iterations from 10 to 110\n",
      "\n",
      " Fitness of the population: 1125190.6863307927 already visited, changing max iterations from 10 to 110\n",
      "\n",
      " Max iterations to local search: [110. 110. 110. 110.]\n",
      "\n",
      " ------------LOCAL SEARCH------------\n",
      " Max number of iterations: 110.0\n",
      "\n",
      " ------------LOCAL SEARCH------------\n",
      " Max number of iterations: 110.0\n",
      "\n",
      " ------------LOCAL SEARCH------------\n",
      " Max number of iterations: 110.0\n",
      "\n",
      " ------------LOCAL SEARCH------------\n",
      " Max number of iterations: 110.0\n",
      "\n",
      " LS: Initial Fitness: 960067.9079846173 - Final Fitness: 658238.6333559979 at index: 109\n",
      "\n",
      " LS: Initial Fitness: 1125190.6863307927 - Final Fitness: 785205.8730598283 at index: 108\n",
      "\n",
      " LS: Initial Fitness: 4586965.996827558 - Final Fitness: 1271200.8798849245 at index: 109\n",
      "\n",
      " LS: Initial Fitness: 3325045.1430838723 - Final Fitness: 805547.0428521736 at index: 109\n",
      "\n",
      " ---------------------------------------------------------------------\n",
      "\n",
      " -------------------- Cache before adding entries --------------------\n",
      "\n",
      " ---------------------------------------------------------------------\n",
      "Entry population fitness: [658238.633356   785205.87305983]\n",
      "Entry population iterations: [110. 110.]\n",
      "\n",
      " Case 3a: Replacing min fitness. Entry fitness: 658238.6333559979, iterations: 110.0\n",
      "\n",
      " Case 3b: Replacing second smallest fitness. Entry fitness: 785205.8730598283, iterations: 110.0\n",
      "\n",
      " Cache of the local search is : {658238.6333559979: 10, 785205.8730598283: 10}\n",
      "\n",
      " Mean Objective --> 6671773.119459546 \n",
      " Best Objective --> 658238.6333559979\n",
      "\n",
      " Iteration number 6\n",
      "\n",
      "  ----- Local search of teh population--\n",
      "\n",
      " Best n distance from population: [658238.633356   785205.87305983]\n",
      "\n",
      " Fitness of the population: 658238.6333559979 already visited, changing max iterations from 10 to 110\n",
      "\n",
      " Fitness of the population: 785205.8730598283 already visited, changing max iterations from 10 to 110\n",
      "\n",
      " Max iterations to local search: [110. 110. 110. 110.]\n",
      "\n",
      " ------------LOCAL SEARCH------------\n",
      " Max number of iterations: 110.0\n",
      "\n",
      " ------------LOCAL SEARCH------------\n",
      " Max number of iterations: 110.0\n",
      "\n",
      " ------------LOCAL SEARCH------------\n",
      " Max number of iterations: 110.0\n",
      "\n",
      " ------------LOCAL SEARCH------------\n",
      " Max number of iterations: 110.0\n",
      "\n",
      " LS: Initial Fitness: 658238.6333559979 - Final Fitness: 495630.809582537 at index: 107\n",
      "\n",
      " LS: Initial Fitness: 785205.8730598283 - Final Fitness: 558429.9111503555 at index: 109\n",
      "\n",
      " LS: Initial Fitness: 4862168.409148535 - Final Fitness: 1115424.8202281415 at index: 108\n",
      "\n",
      " LS: Initial Fitness: 3662507.9198877374 - Final Fitness: 841612.0054004318 at index: 107\n",
      "\n",
      " ---------------------------------------------------------------------\n",
      "\n",
      " -------------------- Cache before adding entries --------------------\n",
      "\n",
      " ---------------------------------------------------------------------\n",
      "Entry population fitness: [495630.80958254 558429.91115036]\n",
      "Entry population iterations: [110. 110.]\n",
      "\n",
      " Case 3a: Replacing min fitness. Entry fitness: 495630.809582537, iterations: 110.0\n",
      "\n",
      " Case 3b: Replacing second smallest fitness. Entry fitness: 558429.9111503555, iterations: 110.0\n",
      "\n",
      " Cache of the local search is : {495630.809582537: 10, 558429.9111503555: 10}\n",
      "\n",
      " Mean Objective --> 7045656.361987074 \n",
      " Best Objective --> 495630.809582537\n",
      "\n",
      " Iteration number 7\n",
      "\n",
      "  ----- Local search of teh population--\n",
      "\n",
      " Best n distance from population: [ 495630.80958254 1115424.82022814]\n",
      "\n",
      " Fitness of the population: 495630.809582537 already visited, changing max iterations from 10 to 110\n",
      "\n",
      " Max iterations to local search: [110. 110. 110. 110.]\n",
      "\n",
      " ------------LOCAL SEARCH------------\n",
      " Max number of iterations: 110.0\n",
      "\n",
      " ------------LOCAL SEARCH------------\n",
      " Max number of iterations: 110.0\n",
      "\n",
      " ------------LOCAL SEARCH------------\n",
      " Max number of iterations: 110.0\n",
      "\n",
      " ------------LOCAL SEARCH------------\n",
      " Max number of iterations: 110.0\n",
      "\n",
      " LS: Initial Fitness: 495630.809582537 - Final Fitness: 393490.2887161636 at index: 109\n",
      "\n",
      " LS: Initial Fitness: 5615327.973931414 - Final Fitness: 1202508.602257873 at index: 108\n",
      "\n",
      " LS: Initial Fitness: 1115424.8202281415 - Final Fitness: 736842.4955463797 at index: 109\n",
      "\n",
      " LS: Initial Fitness: 7270197.874158962 - Final Fitness: 1100392.1989017155 at index: 109\n",
      "\n",
      " ---------------------------------------------------------------------\n",
      "\n",
      " -------------------- Cache before adding entries --------------------\n",
      "\n",
      " ---------------------------------------------------------------------\n",
      "Entry population fitness: [393490.28871616 736842.49554638]\n",
      "Entry population iterations: [110. 110.]\n",
      "\n",
      " Case 3a: Replacing min fitness. Entry fitness: 393490.2887161636, iterations: 110.0\n",
      "\n",
      " Cache of the local search is : {558429.9111503555: 10, 393490.2887161636: 10}\n",
      "\n",
      " Mean Objective --> 9861596.062966576 \n",
      " Best Objective --> 393490.2887161636\n",
      "\n",
      " Iteration number 8\n",
      "\n",
      "  ----- Local search of teh population--\n",
      "\n",
      " Best n distance from population: [393490.28871616 736842.49554638]\n",
      "\n",
      " Fitness of the population: 393490.2887161636 already visited, changing max iterations from 10 to 110\n",
      "\n",
      " Max iterations to local search: [110. 110. 110. 110.]\n",
      "\n",
      " ------------LOCAL SEARCH------------\n",
      " Max number of iterations: 110.0\n",
      "\n",
      " ------------LOCAL SEARCH------------\n",
      " Max number of iterations: 110.0\n",
      "\n",
      " ------------LOCAL SEARCH------------\n",
      " Max number of iterations: 110.0\n",
      "\n",
      " ------------LOCAL SEARCH------------\n",
      " Max number of iterations: 110.0\n",
      "\n",
      " LS: Initial Fitness: 393490.2887161636 - Final Fitness: 332161.778115937 at index: 105\n",
      "\n",
      " LS: Initial Fitness: 9487699.86365747 - Final Fitness: 1698985.428851188 at index: 109\n",
      "\n",
      " LS: Initial Fitness: 4266894.620355743 - Final Fitness: 539136.9857805357 at index: 108\n",
      "\n",
      " LS: Initial Fitness: 736842.4955463797 - Final Fitness: 506321.6248365843 at index: 109\n",
      "\n",
      " ---------------------------------------------------------------------\n",
      "\n",
      " -------------------- Cache before adding entries --------------------\n",
      "\n",
      " ---------------------------------------------------------------------\n",
      "Entry population fitness: [332161.77811594 506321.62483658]\n",
      "Entry population iterations: [110. 110.]\n",
      "\n",
      " Case 3a: Replacing min fitness. Entry fitness: 332161.778115937, iterations: 110.0\n",
      "\n",
      " Case 3b: Replacing second smallest fitness. Entry fitness: 506321.6248365843, iterations: 110.0\n",
      "\n",
      " Cache of the local search is : {332161.778115937: 10, 506321.6248365843: 10}\n",
      "\n",
      " Mean Objective --> 9633233.18186419 \n",
      " Best Objective --> 332161.778115937\n",
      "\n",
      " Iteration number 9\n",
      "\n",
      "  ----- Local search of teh population--\n",
      "\n",
      " Best n distance from population: [ 332161.77811594 8863427.58122548]\n",
      "\n",
      " Fitness of the population: 332161.778115937 already visited, changing max iterations from 10 to 110\n",
      "\n",
      " Max iterations to local search: [110. 110. 110. 110.]\n",
      "\n",
      " ------------LOCAL SEARCH------------\n",
      " Max number of iterations: 110.0\n",
      "\n",
      " ------------LOCAL SEARCH------------\n",
      " Max number of iterations: 110.0\n",
      "\n",
      " ------------LOCAL SEARCH------------\n",
      " Max number of iterations: 110.0\n",
      "\n",
      " ------------LOCAL SEARCH------------\n",
      " Max number of iterations: 110.0\n",
      "\n",
      " LS: Initial Fitness: 332161.778115937 - Final Fitness: 277775.66504756024 at index: 109\n",
      "\n",
      " LS: Initial Fitness: 2771567.5984643647 - Final Fitness: 368072.6575131238 at index: 109\n",
      "\n",
      " LS: Initial Fitness: 8863427.581225475 - Final Fitness: 1235977.5114341988 at index: 109\n",
      "\n",
      " LS: Initial Fitness: 5809051.413225208 - Final Fitness: 1251451.9787907882 at index: 108\n",
      "\n",
      " ---------------------------------------------------------------------\n",
      "\n",
      " -------------------- Cache before adding entries --------------------\n",
      "\n",
      " ---------------------------------------------------------------------\n",
      "Entry population fitness: [277775.66504756 368072.65751312]\n",
      "Entry population iterations: [110. 110.]\n",
      "\n",
      " Case 3a: Replacing min fitness. Entry fitness: 277775.66504756024, iterations: 110.0\n",
      "\n",
      " Case 3b: Replacing second smallest fitness. Entry fitness: 368072.6575131238, iterations: 110.0\n",
      "\n",
      " Cache of the local search is : {277775.66504756024: 10, 368072.6575131238: 10}\n",
      "\n",
      " Mean Objective --> 8731191.179664979 \n",
      " Best Objective --> 277775.66504756024\n",
      "\n",
      " Iteration number 10\n",
      "\n",
      "  ----- Local search of teh population--\n",
      "\n",
      " Best n distance from population: [ 277775.66504756 1782604.30515662]\n",
      "\n",
      " Fitness of the population: 277775.66504756024 already visited, changing max iterations from 10 to 110\n",
      "\n",
      " Max iterations to local search: [110. 110. 110. 110.]\n",
      "\n",
      " ------------LOCAL SEARCH------------\n",
      " Max number of iterations: 110.0\n",
      "\n",
      " ------------LOCAL SEARCH------------\n",
      " Max number of iterations: 110.0\n",
      "\n",
      " ------------LOCAL SEARCH------------\n",
      " Max number of iterations: 110.0\n",
      "\n",
      " ------------LOCAL SEARCH------------\n",
      " Max number of iterations: 110.0\n",
      "\n",
      " LS: Initial Fitness: 4970386.664942622 - Final Fitness: 546420.7721742162 at index: 109\n",
      "\n",
      " LS: Initial Fitness: 1782604.3051566167 - Final Fitness: 370940.03236630914 at index: 109\n",
      "\n",
      " LS: Initial Fitness: 277775.66504756024 - Final Fitness: 239888.3317143832 at index: 109\n",
      "\n",
      " LS: Initial Fitness: 9560165.725853289 - Final Fitness: 1727436.587935295 at index: 109\n",
      "\n",
      " ---------------------------------------------------------------------\n",
      "\n",
      " -------------------- Cache before adding entries --------------------\n",
      "\n",
      " ---------------------------------------------------------------------\n",
      "Entry population fitness: [239888.33171438 370940.03236631]\n",
      "Entry population iterations: [110. 110.]\n",
      "\n",
      " Case 3a: Replacing min fitness. Entry fitness: 239888.3317143832, iterations: 110.0\n",
      "\n",
      " Cache of the local search is : {368072.6575131238: 10, 239888.3317143832: 10}\n",
      "\n",
      " Mean Objective --> 9362511.529932028 \n",
      " Best Objective --> 239888.3317143832\n",
      "\n",
      " Iteration number 11\n",
      "\n",
      "  ----- Local search of teh population--\n",
      "\n",
      " Best n distance from population: [ 239888.33171438 6802394.09668346]\n",
      "\n",
      " Fitness of the population: 239888.3317143832 already visited, changing max iterations from 10 to 110\n",
      "\n",
      " Max iterations to local search: [110. 110. 110. 110.]\n",
      "\n",
      " ------------LOCAL SEARCH------------\n",
      " Max number of iterations: 110.0\n",
      "\n",
      " ------------LOCAL SEARCH------------\n",
      " Max number of iterations: 110.0\n",
      "\n",
      " ------------LOCAL SEARCH------------\n",
      " Max number of iterations: 110.0\n",
      "\n",
      " ------------LOCAL SEARCH------------\n",
      " Max number of iterations: 110.0\n",
      "\n",
      " LS: Initial Fitness: 239888.3317143832 - Final Fitness: 218868.43731936012 at index: 94\n",
      "\n",
      " LS: Initial Fitness: 7664214.387467541 - Final Fitness: 1673095.1804769954 at index: 108\n",
      "\n",
      " LS: Initial Fitness: 7819588.9263347015 - Final Fitness: 1565778.676716688 at index: 109\n",
      "\n",
      " LS: Initial Fitness: 6802394.096683461 - Final Fitness: 1378493.3419659506 at index: 109\n",
      "\n",
      " ---------------------------------------------------------------------\n",
      "\n",
      " -------------------- Cache before adding entries --------------------\n",
      "\n",
      " ---------------------------------------------------------------------\n",
      "Entry population fitness: [ 218868.43731936 1378493.34196595]\n",
      "Entry population iterations: [110. 110.]\n",
      "\n",
      " Case 3a: Replacing min fitness. Entry fitness: 218868.43731936012, iterations: 110.0\n",
      "\n",
      " Cache of the local search is : {368072.6575131238: 10, 218868.43731936012: 10}\n",
      "\n",
      " Mean Objective --> 9520859.902186982 \n",
      " Best Objective --> 218868.43731936012\n",
      "\n",
      " Iteration number 12\n",
      "\n",
      "  ----- Local search of teh population--\n",
      "\n",
      " Best n distance from population: [ 218868.43731936 1378493.34196595]\n",
      "\n",
      " Fitness of the population: 218868.43731936012 already visited, changing max iterations from 10 to 110\n",
      "\n",
      " Max iterations to local search: [110. 110. 110. 110.]\n",
      "\n",
      " ------------LOCAL SEARCH------------\n",
      " Max number of iterations: 110.0\n",
      "\n",
      " ------------LOCAL SEARCH------------\n",
      " Max number of iterations: 110.0\n",
      "\n",
      " ------------LOCAL SEARCH------------\n",
      " Max number of iterations: 110.0\n",
      "\n",
      " ------------LOCAL SEARCH------------\n",
      " Max number of iterations: 110.0\n",
      "\n",
      " LS: Initial Fitness: 218868.43731936012 - Final Fitness: 214984.83032429736 at index: 76\n",
      "\n",
      " LS: Initial Fitness: 11094526.063814983 - Final Fitness: 2137411.2324905214 at index: 108\n",
      "\n",
      " LS: Initial Fitness: 1378493.3419659506 - Final Fitness: 842582.3618940493 at index: 109\n",
      "\n",
      " LS: Initial Fitness: 6079516.709846163 - Final Fitness: 866662.4856025074 at index: 109\n",
      "\n",
      " ---------------------------------------------------------------------\n",
      "\n",
      " -------------------- Cache before adding entries --------------------\n",
      "\n",
      " ---------------------------------------------------------------------\n",
      "Entry population fitness: [214984.8303243  842582.36189405]\n",
      "Entry population iterations: [110. 110.]\n",
      "\n",
      " Case 3a: Replacing min fitness. Entry fitness: 214984.83032429736, iterations: 110.0\n",
      "\n",
      " Cache of the local search is : {368072.6575131238: 10, 214984.83032429736: 10}\n",
      "\n",
      " Mean Objective --> 8624920.84188997 \n",
      " Best Objective --> 214984.83032429736\n",
      "\n",
      " Iteration number 13\n",
      "\n",
      "  ----- Local search of teh population--\n",
      "\n",
      " Best n distance from population: [214984.8303243  866662.48560251]\n",
      "\n",
      " Fitness of the population: 214984.83032429736 already visited, changing max iterations from 10 to 110\n",
      "\n",
      " Max iterations to local search: [110. 110. 110. 110.]\n",
      "\n",
      " ------------LOCAL SEARCH------------\n",
      " Max number of iterations: 110.0\n",
      "\n",
      " ------------LOCAL SEARCH------------\n",
      " Max number of iterations: 110.0\n",
      "\n",
      " ------------LOCAL SEARCH------------\n",
      " Max number of iterations: 110.0\n",
      "\n",
      " ------------LOCAL SEARCH------------\n",
      " Max number of iterations: 110.0\n",
      "\n",
      " LS: Initial Fitness: 2421459.1785145756 - Final Fitness: 274730.36819368514 at index: 109\n",
      "\n",
      " LS: Initial Fitness: 214984.83032429736 - Final Fitness: 208363.13176621185 at index: 108\n",
      "\n",
      " LS: Initial Fitness: 866662.4856025074 - Final Fitness: 480183.9786273346 at index: 109\n",
      "\n",
      " LS: Initial Fitness: 4383248.999934899 - Final Fitness: 755600.0545269964 at index: 109\n",
      "\n",
      " ---------------------------------------------------------------------\n",
      "\n",
      " -------------------- Cache before adding entries --------------------\n",
      "\n",
      " ---------------------------------------------------------------------\n",
      "Entry population fitness: [208363.13176621 274730.36819369]\n",
      "Entry population iterations: [110. 110.]\n",
      "\n",
      " Case 3a: Replacing min fitness. Entry fitness: 208363.13176621185, iterations: 110.0\n",
      "\n",
      " Case 3b: Replacing second smallest fitness. Entry fitness: 274730.36819368514, iterations: 110.0\n",
      "\n",
      " Cache of the local search is : {208363.13176621185: 10, 274730.36819368514: 10}\n",
      "\n",
      " Mean Objective --> 6906052.802456149 \n",
      " Best Objective --> 208363.13176621185\n",
      "\n",
      " Iteration number 14\n",
      "\n",
      "  ----- Local search of teh population--\n",
      "\n",
      " Best n distance from population: [208363.13176621 274730.36819369]\n",
      "\n",
      " Fitness of the population: 208363.13176621185 already visited, changing max iterations from 10 to 110\n",
      "\n",
      " Fitness of the population: 274730.36819368514 already visited, changing max iterations from 10 to 110\n",
      "\n",
      " Max iterations to local search: [110. 110. 110. 110.]\n",
      "\n",
      " ------------LOCAL SEARCH------------\n",
      " Max number of iterations: 110.0\n",
      "\n",
      " ------------LOCAL SEARCH------------\n",
      " Max number of iterations: 110.0\n",
      "\n",
      " ------------LOCAL SEARCH------------\n",
      " Max number of iterations: 110.0\n",
      "\n",
      " ------------LOCAL SEARCH------------\n",
      " Max number of iterations: 110.0\n",
      "\n",
      " LS: Initial Fitness: 208363.13176621185 - Final Fitness: 202126.64950747622 at index: 101\n",
      "\n",
      " LS: Initial Fitness: 274730.36819368514 - Final Fitness: 229273.38709482973 at index: 100\n",
      "\n",
      " LS: Initial Fitness: 7555864.5823807595 - Final Fitness: 1610477.6606818673 at index: 109\n",
      "\n",
      " LS: Initial Fitness: 8066819.73927179 - Final Fitness: 1657810.6833491086 at index: 109\n",
      "\n",
      " ---------------------------------------------------------------------\n",
      "\n",
      " -------------------- Cache before adding entries --------------------\n",
      "\n",
      " ---------------------------------------------------------------------\n",
      "Entry population fitness: [202126.64950748 229273.38709483]\n",
      "Entry population iterations: [110. 110.]\n",
      "\n",
      " Case 3a: Replacing min fitness. Entry fitness: 202126.64950747622, iterations: 110.0\n",
      "\n",
      " Case 3b: Replacing second smallest fitness. Entry fitness: 229273.38709482973, iterations: 110.0\n",
      "\n",
      " Cache of the local search is : {202126.64950747622: 10, 229273.38709482973: 10}\n",
      "\n",
      " Mean Objective --> 7810822.3814547835 \n",
      " Best Objective --> 202126.64950747622\n",
      "\n",
      " Iteration number 15\n",
      "\n",
      "  ----- Local search of teh population--\n",
      "\n",
      " Best n distance from population: [202126.64950748 480183.97862733]\n",
      "\n",
      " Fitness of the population: 202126.64950747622 already visited, changing max iterations from 10 to 110\n",
      "\n",
      " Max iterations to local search: [110. 110. 110. 110.]\n",
      "\n",
      " ------------LOCAL SEARCH------------\n",
      " Max number of iterations: 110.0\n",
      "\n",
      " ------------LOCAL SEARCH------------\n",
      " Max number of iterations: 110.0\n",
      "\n",
      " ------------LOCAL SEARCH------------\n",
      " Max number of iterations: 110.0\n",
      "\n",
      " ------------LOCAL SEARCH------------\n",
      " Max number of iterations: 110.0\n",
      "\n",
      " LS: Initial Fitness: 480183.9786273346 - Final Fitness: 337358.64404121647 at index: 109\n",
      "\n",
      " LS: Initial Fitness: 202126.64950747622 - Final Fitness: 199617.57407619446 at index: 109\n",
      "\n",
      " LS: Initial Fitness: 9060306.779490907 - Final Fitness: 1541768.932995977 at index: 109\n",
      "\n",
      " LS: Initial Fitness: 4814560.63965226 - Final Fitness: 680403.4018986725 at index: 108\n",
      "\n",
      " ---------------------------------------------------------------------\n",
      "\n",
      " -------------------- Cache before adding entries --------------------\n",
      "\n",
      " ---------------------------------------------------------------------\n",
      "Entry population fitness: [199617.57407619 337358.64404122]\n",
      "Entry population iterations: [110. 110.]\n",
      "\n",
      " Case 3a: Replacing min fitness. Entry fitness: 199617.57407619446, iterations: 110.0\n",
      "\n",
      " Cache of the local search is : {229273.38709482973: 10, 199617.57407619446: 10}\n",
      "\n",
      " Mean Objective --> 7278389.129465339 \n",
      " Best Objective --> 199617.57407619446\n",
      "\n",
      " Iteration number 16\n",
      "\n",
      "  ----- Local search of teh population--\n",
      "\n",
      " Best n distance from population: [199617.57407619 337358.64404122]\n",
      "\n",
      " Fitness of the population: 199617.57407619446 already visited, changing max iterations from 10 to 110\n",
      "\n",
      " Max iterations to local search: [110. 110. 110. 110.]\n",
      "\n",
      " ------------LOCAL SEARCH------------\n",
      " Max number of iterations: 110.0\n",
      "\n",
      " ------------LOCAL SEARCH------------\n",
      " Max number of iterations: 110.0\n",
      "\n",
      " ------------LOCAL SEARCH------------\n",
      " Max number of iterations: 110.0\n",
      "\n",
      " ------------LOCAL SEARCH------------\n",
      " Max number of iterations: 110.0\n",
      "\n",
      " LS: Initial Fitness: 199617.57407619446 - Final Fitness: 196604.31115856065 at index: 87\n",
      "\n",
      " LS: Initial Fitness: 337358.64404121647 - Final Fitness: 267074.56902971753 at index: 109\n",
      "\n",
      " LS: Initial Fitness: 5677766.404215139 - Final Fitness: 938228.6411234045 at index: 105\n",
      "\n",
      " LS: Initial Fitness: 7388568.290064162 - Final Fitness: 1225385.1414045522 at index: 107\n",
      "\n",
      " ---------------------------------------------------------------------\n",
      "\n",
      " -------------------- Cache before adding entries --------------------\n",
      "\n",
      " ---------------------------------------------------------------------\n",
      "Entry population fitness: [196604.31115856 267074.56902972]\n",
      "Entry population iterations: [110. 110.]\n",
      "\n",
      " Case 3a: Replacing min fitness. Entry fitness: 196604.31115856065, iterations: 110.0\n",
      "\n",
      " Cache of the local search is : {229273.38709482973: 10, 196604.31115856065: 10}\n",
      "\n",
      " Mean Objective --> 6357173.089081514 \n",
      " Best Objective --> 196604.31115856065\n",
      "\n",
      " Iteration number 17\n",
      "\n",
      "  ----- Local search of teh population--\n",
      "\n",
      " Best n distance from population: [196604.31115856 267074.56902972]\n",
      "\n",
      " Fitness of the population: 196604.31115856065 already visited, changing max iterations from 10 to 110\n",
      "\n",
      " Max iterations to local search: [110. 110. 110. 110.]\n",
      "\n",
      " ------------LOCAL SEARCH------------\n",
      " Max number of iterations: 110.0\n",
      "\n",
      " ------------LOCAL SEARCH------------\n",
      " Max number of iterations: 110.0\n",
      "\n",
      " ------------LOCAL SEARCH------------\n",
      " Max number of iterations: 110.0\n",
      "\n",
      " ------------LOCAL SEARCH------------\n",
      " Max number of iterations: 110.0\n",
      "\n",
      " LS: Initial Fitness: 196604.31115856065 - Final Fitness: 192033.9800650425 at index: 93\n",
      "\n",
      " LS: Initial Fitness: 2723972.504125057 - Final Fitness: 648346.798300085 at index: 109\n",
      "\n",
      " LS: Initial Fitness: 267074.56902971753 - Final Fitness: 232754.9825833775 at index: 102\n",
      "\n",
      " LS: Initial Fitness: 9668727.984630324 - Final Fitness: 1508866.5921108285 at index: 109\n",
      "\n",
      " ---------------------------------------------------------------------\n",
      "\n",
      " -------------------- Cache before adding entries --------------------\n",
      "\n",
      " ---------------------------------------------------------------------\n",
      "Entry population fitness: [192033.98006504 232754.98258338]\n",
      "Entry population iterations: [110. 110.]\n",
      "\n",
      " Case 3a: Replacing min fitness. Entry fitness: 192033.9800650425, iterations: 110.0\n",
      "\n",
      " Cache of the local search is : {229273.38709482973: 10, 192033.9800650425: 10}\n",
      "\n",
      " Mean Objective --> 7413177.574985332 \n",
      " Best Objective --> 192033.9800650425\n",
      "\n",
      " Iteration number 18\n",
      "\n",
      "  ----- Local search of teh population--\n",
      "\n",
      " Best n distance from population: [ 192033.98006504 2243414.77193025]\n",
      "\n",
      " Fitness of the population: 192033.9800650425 already visited, changing max iterations from 10 to 110\n",
      "\n",
      " Max iterations to local search: [110. 110. 110. 110.]\n",
      "\n",
      " ------------LOCAL SEARCH------------\n",
      " Max number of iterations: 110.0\n",
      "\n",
      " ------------LOCAL SEARCH------------\n",
      " Max number of iterations: 110.0\n",
      "\n",
      " ------------LOCAL SEARCH------------\n",
      " Max number of iterations: 110.0\n",
      "\n",
      " ------------LOCAL SEARCH------------\n",
      " Max number of iterations: 110.0\n",
      "\n",
      " LS: Initial Fitness: 192033.9800650425 - Final Fitness: 188154.56987964283 at index: 101\n",
      "\n",
      " LS: Initial Fitness: 2756748.3337144363 - Final Fitness: 261689.77678746262 at index: 109\n",
      "\n",
      " LS: Initial Fitness: 2243414.771930254 - Final Fitness: 279106.2823316638 at index: 109\n",
      "\n",
      " LS: Initial Fitness: 4141298.5420923033 - Final Fitness: 921106.5564692835 at index: 109\n",
      "\n",
      " ---------------------------------------------------------------------\n",
      "\n",
      " -------------------- Cache before adding entries --------------------\n",
      "\n",
      " ---------------------------------------------------------------------\n",
      "Entry population fitness: [188154.56987964 261689.77678746]\n",
      "Entry population iterations: [110. 110.]\n",
      "\n",
      " Case 3a: Replacing min fitness. Entry fitness: 188154.56987964283, iterations: 110.0\n",
      "\n",
      " Cache of the local search is : {229273.38709482973: 10, 188154.56987964283: 10}\n",
      "\n",
      " Mean Objective --> 8129858.932331202 \n",
      " Best Objective --> 188154.56987964283\n",
      "\n",
      " Iteration number 19\n",
      "\n",
      "  ----- Local search of teh population--\n",
      "\n",
      " Best n distance from population: [188154.56987964 279106.28233166]\n",
      "\n",
      " Fitness of the population: 188154.56987964283 already visited, changing max iterations from 10 to 110\n",
      "\n",
      " Max iterations to local search: [110. 110. 110. 110.]\n",
      "\n",
      " ------------LOCAL SEARCH------------\n",
      " Max number of iterations: 110.0\n",
      "\n",
      " ------------LOCAL SEARCH------------\n",
      " Max number of iterations: 110.0\n",
      "\n",
      " ------------LOCAL SEARCH------------\n",
      " Max number of iterations: 110.0\n",
      "\n",
      " ------------LOCAL SEARCH------------\n",
      " Max number of iterations: 110.0\n",
      "\n",
      " LS: Initial Fitness: 1648802.8847664439 - Final Fitness: 245022.41266866558 at index: 109\n",
      "\n",
      " LS: Initial Fitness: 279106.2823316638 - Final Fitness: 237508.44579472236 at index: 82\n",
      "\n",
      " LS: Initial Fitness: 188154.56987964283 - Final Fitness: 184043.6489512267 at index: 109\n",
      "\n",
      " LS: Initial Fitness: 3741614.8343735957 - Final Fitness: 755263.6204046158 at index: 109\n",
      "\n",
      " ---------------------------------------------------------------------\n",
      "\n",
      " -------------------- Cache before adding entries --------------------\n",
      "\n",
      " ---------------------------------------------------------------------\n",
      "Entry population fitness: [184043.64895123 237508.44579472]\n",
      "Entry population iterations: [110. 110.]\n",
      "\n",
      " Case 3a: Replacing min fitness. Entry fitness: 184043.6489512267, iterations: 110.0\n",
      "\n",
      " Cache of the local search is : {229273.38709482973: 10, 184043.6489512267: 10}\n",
      "\n",
      " Mean Objective --> 7760315.597336501 \n",
      " Best Objective --> 184043.6489512267\n",
      "\n",
      " Iteration number 20\n",
      "\n",
      "  ----- Local search of teh population--\n",
      "\n",
      " Best n distance from population: [184043.64895123 237508.44579472]\n",
      "\n",
      " Fitness of the population: 184043.6489512267 already visited, changing max iterations from 10 to 110\n",
      "\n",
      " Max iterations to local search: [110. 110. 110. 110.]\n",
      "\n",
      " ------------LOCAL SEARCH------------\n",
      " Max number of iterations: 110.0\n",
      "\n",
      " ------------LOCAL SEARCH------------\n",
      " Max number of iterations: 110.0\n",
      "\n",
      " ------------LOCAL SEARCH------------\n",
      " Max number of iterations: 110.0\n",
      "\n",
      " ------------LOCAL SEARCH------------\n",
      " Max number of iterations: 110.0\n",
      "\n",
      " LS: Initial Fitness: 184043.6489512267 - Final Fitness: 180909.19654991073 at index: 39\n",
      "\n",
      " LS: Initial Fitness: 5017811.006097265 - Final Fitness: 446630.8132254813 at index: 107\n",
      "\n",
      " LS: Initial Fitness: 5019803.37381258 - Final Fitness: 624052.0305322345 at index: 109\n",
      "\n",
      " LS: Initial Fitness: 237508.44579472236 - Final Fitness: 221455.52326024655 at index: 109\n",
      "\n",
      " ---------------------------------------------------------------------\n",
      "\n",
      " -------------------- Cache before adding entries --------------------\n",
      "\n",
      " ---------------------------------------------------------------------\n",
      "Entry population fitness: [180909.19654991 221455.52326025]\n",
      "Entry population iterations: [110. 110.]\n",
      "\n",
      " Case 3a: Replacing min fitness. Entry fitness: 180909.19654991073, iterations: 110.0\n",
      "\n",
      " Case 3b: Replacing second smallest fitness. Entry fitness: 221455.52326024655, iterations: 110.0\n",
      "\n",
      " Cache of the local search is : {180909.19654991073: 10, 221455.52326024655: 10}\n",
      "\n",
      " Mean Objective --> 6776785.693281789 \n",
      " Best Objective --> 180909.19654991073\n",
      "\n",
      " Iteration number 21\n",
      "\n",
      "  ----- Local search of teh population--\n",
      "\n",
      " Best n distance from population: [180909.19654991 446630.81322548]\n",
      "\n",
      " Fitness of the population: 180909.19654991073 already visited, changing max iterations from 10 to 110\n",
      "\n",
      " Max iterations to local search: [110. 110. 110. 110.]\n",
      "\n",
      " ------------LOCAL SEARCH------------\n",
      " Max number of iterations: 110.0\n",
      "\n",
      " ------------LOCAL SEARCH------------\n",
      " Max number of iterations: 110.0\n",
      "\n",
      " ------------LOCAL SEARCH------------\n",
      " Max number of iterations: 110.0\n",
      "\n",
      " ------------LOCAL SEARCH------------\n",
      " Max number of iterations: 110.0\n",
      "\n",
      " LS: Initial Fitness: 180909.19654991073 - Final Fitness: 181057.65782840332 at index: 0\n",
      "\n",
      " LS: Initial Fitness: 5009994.916601026 - Final Fitness: 821607.2158213469 at index: 109\n",
      "\n",
      " LS: Initial Fitness: 446630.8132254813 - Final Fitness: 278588.05567160604 at index: 109\n",
      "\n",
      " LS: Initial Fitness: 1499077.7669345196 - Final Fitness: 293026.4569800929 at index: 107\n",
      "\n",
      " ---------------------------------------------------------------------\n",
      "\n",
      " -------------------- Cache before adding entries --------------------\n",
      "\n",
      " ---------------------------------------------------------------------\n",
      "Entry population fitness: [180909.19654991 278588.05567161]\n",
      "Entry population iterations: [110. 110.]\n",
      "\n",
      " Case 1: Updating number of iterations. Entry fitness is in the cache: 180909.19654991073 and the number of iterations is 110.0\n",
      "\n",
      " Cache of the local search is : {180909.19654991073: 110.0, 221455.52326024655: 10}\n",
      "\n",
      " Mean Objective --> 7343831.183193381 \n",
      " Best Objective --> 180909.19654991073\n",
      "\n",
      " Iteration number 22\n",
      "\n",
      "  ----- Local search of teh population--\n",
      "\n",
      " Best n distance from population: [180909.19654991 278588.05567161]\n",
      "\n",
      " Fitness of the population: 180909.19654991073 already visited, changing max iterations from 110.0 to 210.0\n",
      "\n",
      " Max iterations to local search: [210. 210. 210. 210.]\n",
      "\n",
      " ------------LOCAL SEARCH------------\n",
      " Max number of iterations: 210.0\n",
      "\n",
      " ------------LOCAL SEARCH------------\n",
      " Max number of iterations: 210.0\n",
      "\n",
      " ------------LOCAL SEARCH------------\n",
      " Max number of iterations: 210.0\n",
      "\n",
      " ------------LOCAL SEARCH------------\n",
      " Max number of iterations: 210.0\n",
      "\n",
      " LS: Initial Fitness: 278588.05567160604 - Final Fitness: 217574.6301089969 at index: 204\n",
      "\n",
      " LS: Initial Fitness: 3634441.077757779 - Final Fitness: 221449.3340405766 at index: 209\n",
      "\n",
      " LS: Initial Fitness: 180909.19654991073 - Final Fitness: 180404.6601424238 at index: 209\n",
      "\n",
      " LS: Initial Fitness: 8228479.029731349 - Final Fitness: 872348.2749869146 at index: 208\n",
      "\n",
      " ---------------------------------------------------------------------\n",
      "\n",
      " -------------------- Cache before adding entries --------------------\n",
      "\n",
      " ---------------------------------------------------------------------\n",
      "Entry population fitness: [180404.66014242 217574.630109  ]\n",
      "Entry population iterations: [210. 210.]\n",
      "\n",
      " Case 3a: Replacing min fitness. Entry fitness: 180404.6601424238, iterations: 210.0\n",
      "\n",
      " Case 3b: Replacing second smallest fitness. Entry fitness: 217574.6301089969, iterations: 210.0\n",
      "\n",
      " Cache of the local search is : {180404.6601424238: 10, 217574.6301089969: 10}\n",
      "\n",
      " Mean Objective --> 7809846.973815327 \n",
      " Best Objective --> 180404.6601424238\n",
      "\n",
      " Iteration number 23\n",
      "\n",
      "  ----- Local search of teh population--\n",
      "\n",
      " Best n distance from population: [180404.66014242 217574.630109  ]\n",
      "\n",
      " Fitness of the population: 180404.6601424238 already visited, changing max iterations from 10 to 110\n",
      "\n",
      " Fitness of the population: 217574.6301089969 already visited, changing max iterations from 10 to 110\n",
      "\n",
      " Max iterations to local search: [110. 110. 110. 110.]\n",
      "\n",
      " ------------LOCAL SEARCH------------\n",
      " Max number of iterations: 110.0\n",
      "\n",
      " ------------LOCAL SEARCH------------\n",
      " Max number of iterations: 110.0\n",
      "\n",
      " ------------LOCAL SEARCH------------\n",
      " Max number of iterations: 110.0\n",
      "\n",
      " ------------LOCAL SEARCH------------\n",
      " Max number of iterations: 110.0\n",
      "\n",
      " LS: Initial Fitness: 180404.6601424238 - Final Fitness: 179142.1851437517 at index: 21\n",
      "\n",
      " LS: Initial Fitness: 217574.6301089969 - Final Fitness: 211571.1928078568 at index: 93\n",
      "\n",
      " LS: Initial Fitness: 11039423.168054005 - Final Fitness: 2147056.897267004 at index: 107\n",
      "\n",
      " LS: Initial Fitness: 4784833.179232856 - Final Fitness: 986030.1440376695 at index: 109\n",
      "\n",
      " ---------------------------------------------------------------------\n",
      "\n",
      " -------------------- Cache before adding entries --------------------\n",
      "\n",
      " ---------------------------------------------------------------------\n",
      "Entry population fitness: [179142.18514375 211571.19280786]\n",
      "Entry population iterations: [110. 110.]\n",
      "\n",
      " Case 3a: Replacing min fitness. Entry fitness: 179142.1851437517, iterations: 110.0\n",
      "\n",
      " Case 3b: Replacing second smallest fitness. Entry fitness: 211571.1928078568, iterations: 110.0\n",
      "\n",
      " Cache of the local search is : {179142.1851437517: 10, 211571.1928078568: 10}\n",
      "\n",
      " Mean Objective --> 8385276.686484751 \n",
      " Best Objective --> 179142.1851437517\n",
      "\n",
      " Iteration number 24\n",
      "\n",
      "  ----- Local search of teh population--\n",
      "\n",
      " Best n distance from population: [179142.18514375 986030.14403767]\n",
      "\n",
      " Fitness of the population: 179142.1851437517 already visited, changing max iterations from 10 to 110\n",
      "\n",
      " Max iterations to local search: [110. 110. 110. 110.]\n",
      "\n",
      " ------------LOCAL SEARCH------------\n",
      " Max number of iterations: 110.0\n",
      "\n",
      " ------------LOCAL SEARCH------------\n",
      " Max number of iterations: 110.0\n",
      "\n",
      " ------------LOCAL SEARCH------------\n",
      " Max number of iterations: 110.0\n",
      "\n",
      " ------------LOCAL SEARCH------------\n",
      " Max number of iterations: 110.0\n",
      "\n",
      " LS: Initial Fitness: 179142.1851437517 - Final Fitness: 179173.1565320223 at index: 1\n",
      "\n",
      " LS: Initial Fitness: 986030.1440376695 - Final Fitness: 629833.4588481778 at index: 108\n",
      "\n",
      " LS: Initial Fitness: 8279801.125312051 - Final Fitness: 1131487.8215900671 at index: 109\n",
      "\n",
      " LS: Initial Fitness: 2671565.914884465 - Final Fitness: 690479.0378367824 at index: 108\n",
      "\n",
      " ---------------------------------------------------------------------\n",
      "\n",
      " -------------------- Cache before adding entries --------------------\n",
      "\n",
      " ---------------------------------------------------------------------\n",
      "Entry population fitness: [179142.18514375 629833.45884818]\n",
      "Entry population iterations: [110. 110.]\n",
      "\n",
      " Case 1: Updating number of iterations. Entry fitness is in the cache: 179142.1851437517 and the number of iterations is 110.0\n",
      "\n",
      " Cache of the local search is : {179142.1851437517: 110.0, 211571.1928078568: 10}\n",
      "\n",
      " Mean Objective --> 7770790.927239126 \n",
      " Best Objective --> 179142.1851437517\n",
      "\n",
      " Iteration number 25\n",
      "\n",
      "  ----- Local search of teh population--\n",
      "\n",
      " Best n distance from population: [179142.18514375 690479.03783678]\n",
      "\n",
      " Fitness of the population: 179142.1851437517 already visited, changing max iterations from 110.0 to 210.0\n",
      "\n",
      " Max iterations to local search: [210. 210. 210. 210.]\n",
      "\n",
      " ------------LOCAL SEARCH------------\n",
      " Max number of iterations: 210.0\n",
      "\n",
      " ------------LOCAL SEARCH------------\n",
      " Max number of iterations: 210.0\n",
      "\n",
      " ------------LOCAL SEARCH------------\n",
      " Max number of iterations: 210.0\n",
      "\n",
      " ------------LOCAL SEARCH------------\n",
      " Max number of iterations: 210.0\n",
      "\n",
      " LS: Initial Fitness: 179142.1851437517 - Final Fitness: 179173.1565320223 at index: 1\n",
      "\n",
      " LS: Initial Fitness: 5805734.4009141885 - Final Fitness: 582985.3442493469 at index: 209\n",
      "\n",
      " LS: Initial Fitness: 690479.0378367824 - Final Fitness: 406786.92228386644 at index: 206\n",
      "\n",
      " LS: Initial Fitness: 9962994.1901772 - Final Fitness: 1132820.5338994863 at index: 207\n",
      "\n",
      " ---------------------------------------------------------------------\n",
      "\n",
      " -------------------- Cache before adding entries --------------------\n",
      "\n",
      " ---------------------------------------------------------------------\n",
      "Entry population fitness: [179142.18514375 406786.92228387]\n",
      "Entry population iterations: [210. 210.]\n",
      "\n",
      " Case 1: Updating number of iterations. Entry fitness is in the cache: 179142.1851437517 and the number of iterations is 210.0\n",
      "\n",
      " Cache of the local search is : {179142.1851437517: 210.0, 211571.1928078568: 10}\n",
      "\n",
      " Mean Objective --> 9858949.875273976 \n",
      " Best Objective --> 179142.1851437517\n"
     ]
    },
    {
     "data": {
      "application/vnd.plotly.v1+json": {
       "config": {
        "plotlyServerURL": "https://plot.ly"
       },
       "data": [
        {
         "line": {
          "color": "blue"
         },
         "marker": {
          "symbol": "circle"
         },
         "mode": "lines+markers",
         "name": "Best Objective",
         "type": "scatter",
         "x": [
          0,
          1,
          2,
          3,
          4,
          5,
          6,
          7,
          8,
          9,
          10,
          11,
          12,
          13,
          14,
          15,
          16,
          17,
          18,
          19,
          20,
          21,
          22,
          23,
          24
         ],
         "y": [
          2844603.338960442,
          2171410.743557724,
          1402934.6229484368,
          960067.9079846173,
          658238.6333559979,
          495630.809582537,
          393490.2887161636,
          332161.778115937,
          277775.66504756024,
          239888.3317143832,
          218868.43731936012,
          214984.83032429736,
          208363.13176621185,
          202126.64950747622,
          199617.57407619446,
          196604.31115856065,
          192033.9800650425,
          188154.56987964283,
          184043.6489512267,
          180909.19654991073,
          180909.19654991073,
          180404.6601424238,
          179142.1851437517,
          179142.1851437517,
          179142.1851437517
         ]
        },
        {
         "line": {
          "color": "orange"
         },
         "marker": {
          "symbol": "x"
         },
         "mode": "lines+markers",
         "name": "Mean Objective",
         "type": "scatter",
         "x": [
          0,
          1,
          2,
          3,
          4,
          5,
          6,
          7,
          8,
          9,
          10,
          11,
          12,
          13,
          14,
          15,
          16,
          17,
          18,
          19,
          20,
          21,
          22,
          23,
          24
         ],
         "y": [
          7361169.430707916,
          7821457.483830696,
          6626413.563575674,
          8060297.60602243,
          6671773.119459546,
          7045656.361987074,
          9861596.062966576,
          9633233.18186419,
          8731191.179664979,
          9362511.529932028,
          9520859.902186982,
          8624920.84188997,
          6906052.802456149,
          7810822.3814547835,
          7278389.129465339,
          6357173.089081514,
          7413177.574985332,
          8129858.932331202,
          7760315.597336501,
          6776785.693281789,
          7343831.183193381,
          7809846.973815327,
          8385276.686484751,
          7770790.927239126,
          9858949.875273976
         ]
        }
       ],
       "layout": {
        "annotations": [
         {
          "arrowhead": 1,
          "ax": -10,
          "ay": -40,
          "bgcolor": "white",
          "bordercolor": "black",
          "showarrow": true,
          "text": "Best: 179142.1851437517<br>Mean: 9858949.875273976",
          "x": 24,
          "y": 179142.1851437517
         }
        ],
        "hovermode": "x",
        "legend": {
         "x": 0,
         "y": 1
        },
        "template": {
         "data": {
          "bar": [
           {
            "error_x": {
             "color": "#2a3f5f"
            },
            "error_y": {
             "color": "#2a3f5f"
            },
            "marker": {
             "line": {
              "color": "#E5ECF6",
              "width": 0.5
             },
             "pattern": {
              "fillmode": "overlay",
              "size": 10,
              "solidity": 0.2
             }
            },
            "type": "bar"
           }
          ],
          "barpolar": [
           {
            "marker": {
             "line": {
              "color": "#E5ECF6",
              "width": 0.5
             },
             "pattern": {
              "fillmode": "overlay",
              "size": 10,
              "solidity": 0.2
             }
            },
            "type": "barpolar"
           }
          ],
          "carpet": [
           {
            "aaxis": {
             "endlinecolor": "#2a3f5f",
             "gridcolor": "white",
             "linecolor": "white",
             "minorgridcolor": "white",
             "startlinecolor": "#2a3f5f"
            },
            "baxis": {
             "endlinecolor": "#2a3f5f",
             "gridcolor": "white",
             "linecolor": "white",
             "minorgridcolor": "white",
             "startlinecolor": "#2a3f5f"
            },
            "type": "carpet"
           }
          ],
          "choropleth": [
           {
            "colorbar": {
             "outlinewidth": 0,
             "ticks": ""
            },
            "type": "choropleth"
           }
          ],
          "contour": [
           {
            "colorbar": {
             "outlinewidth": 0,
             "ticks": ""
            },
            "colorscale": [
             [
              0,
              "#0d0887"
             ],
             [
              0.1111111111111111,
              "#46039f"
             ],
             [
              0.2222222222222222,
              "#7201a8"
             ],
             [
              0.3333333333333333,
              "#9c179e"
             ],
             [
              0.4444444444444444,
              "#bd3786"
             ],
             [
              0.5555555555555556,
              "#d8576b"
             ],
             [
              0.6666666666666666,
              "#ed7953"
             ],
             [
              0.7777777777777778,
              "#fb9f3a"
             ],
             [
              0.8888888888888888,
              "#fdca26"
             ],
             [
              1,
              "#f0f921"
             ]
            ],
            "type": "contour"
           }
          ],
          "contourcarpet": [
           {
            "colorbar": {
             "outlinewidth": 0,
             "ticks": ""
            },
            "type": "contourcarpet"
           }
          ],
          "heatmap": [
           {
            "colorbar": {
             "outlinewidth": 0,
             "ticks": ""
            },
            "colorscale": [
             [
              0,
              "#0d0887"
             ],
             [
              0.1111111111111111,
              "#46039f"
             ],
             [
              0.2222222222222222,
              "#7201a8"
             ],
             [
              0.3333333333333333,
              "#9c179e"
             ],
             [
              0.4444444444444444,
              "#bd3786"
             ],
             [
              0.5555555555555556,
              "#d8576b"
             ],
             [
              0.6666666666666666,
              "#ed7953"
             ],
             [
              0.7777777777777778,
              "#fb9f3a"
             ],
             [
              0.8888888888888888,
              "#fdca26"
             ],
             [
              1,
              "#f0f921"
             ]
            ],
            "type": "heatmap"
           }
          ],
          "heatmapgl": [
           {
            "colorbar": {
             "outlinewidth": 0,
             "ticks": ""
            },
            "colorscale": [
             [
              0,
              "#0d0887"
             ],
             [
              0.1111111111111111,
              "#46039f"
             ],
             [
              0.2222222222222222,
              "#7201a8"
             ],
             [
              0.3333333333333333,
              "#9c179e"
             ],
             [
              0.4444444444444444,
              "#bd3786"
             ],
             [
              0.5555555555555556,
              "#d8576b"
             ],
             [
              0.6666666666666666,
              "#ed7953"
             ],
             [
              0.7777777777777778,
              "#fb9f3a"
             ],
             [
              0.8888888888888888,
              "#fdca26"
             ],
             [
              1,
              "#f0f921"
             ]
            ],
            "type": "heatmapgl"
           }
          ],
          "histogram": [
           {
            "marker": {
             "pattern": {
              "fillmode": "overlay",
              "size": 10,
              "solidity": 0.2
             }
            },
            "type": "histogram"
           }
          ],
          "histogram2d": [
           {
            "colorbar": {
             "outlinewidth": 0,
             "ticks": ""
            },
            "colorscale": [
             [
              0,
              "#0d0887"
             ],
             [
              0.1111111111111111,
              "#46039f"
             ],
             [
              0.2222222222222222,
              "#7201a8"
             ],
             [
              0.3333333333333333,
              "#9c179e"
             ],
             [
              0.4444444444444444,
              "#bd3786"
             ],
             [
              0.5555555555555556,
              "#d8576b"
             ],
             [
              0.6666666666666666,
              "#ed7953"
             ],
             [
              0.7777777777777778,
              "#fb9f3a"
             ],
             [
              0.8888888888888888,
              "#fdca26"
             ],
             [
              1,
              "#f0f921"
             ]
            ],
            "type": "histogram2d"
           }
          ],
          "histogram2dcontour": [
           {
            "colorbar": {
             "outlinewidth": 0,
             "ticks": ""
            },
            "colorscale": [
             [
              0,
              "#0d0887"
             ],
             [
              0.1111111111111111,
              "#46039f"
             ],
             [
              0.2222222222222222,
              "#7201a8"
             ],
             [
              0.3333333333333333,
              "#9c179e"
             ],
             [
              0.4444444444444444,
              "#bd3786"
             ],
             [
              0.5555555555555556,
              "#d8576b"
             ],
             [
              0.6666666666666666,
              "#ed7953"
             ],
             [
              0.7777777777777778,
              "#fb9f3a"
             ],
             [
              0.8888888888888888,
              "#fdca26"
             ],
             [
              1,
              "#f0f921"
             ]
            ],
            "type": "histogram2dcontour"
           }
          ],
          "mesh3d": [
           {
            "colorbar": {
             "outlinewidth": 0,
             "ticks": ""
            },
            "type": "mesh3d"
           }
          ],
          "parcoords": [
           {
            "line": {
             "colorbar": {
              "outlinewidth": 0,
              "ticks": ""
             }
            },
            "type": "parcoords"
           }
          ],
          "pie": [
           {
            "automargin": true,
            "type": "pie"
           }
          ],
          "scatter": [
           {
            "fillpattern": {
             "fillmode": "overlay",
             "size": 10,
             "solidity": 0.2
            },
            "type": "scatter"
           }
          ],
          "scatter3d": [
           {
            "line": {
             "colorbar": {
              "outlinewidth": 0,
              "ticks": ""
             }
            },
            "marker": {
             "colorbar": {
              "outlinewidth": 0,
              "ticks": ""
             }
            },
            "type": "scatter3d"
           }
          ],
          "scattercarpet": [
           {
            "marker": {
             "colorbar": {
              "outlinewidth": 0,
              "ticks": ""
             }
            },
            "type": "scattercarpet"
           }
          ],
          "scattergeo": [
           {
            "marker": {
             "colorbar": {
              "outlinewidth": 0,
              "ticks": ""
             }
            },
            "type": "scattergeo"
           }
          ],
          "scattergl": [
           {
            "marker": {
             "colorbar": {
              "outlinewidth": 0,
              "ticks": ""
             }
            },
            "type": "scattergl"
           }
          ],
          "scattermapbox": [
           {
            "marker": {
             "colorbar": {
              "outlinewidth": 0,
              "ticks": ""
             }
            },
            "type": "scattermapbox"
           }
          ],
          "scatterpolar": [
           {
            "marker": {
             "colorbar": {
              "outlinewidth": 0,
              "ticks": ""
             }
            },
            "type": "scatterpolar"
           }
          ],
          "scatterpolargl": [
           {
            "marker": {
             "colorbar": {
              "outlinewidth": 0,
              "ticks": ""
             }
            },
            "type": "scatterpolargl"
           }
          ],
          "scatterternary": [
           {
            "marker": {
             "colorbar": {
              "outlinewidth": 0,
              "ticks": ""
             }
            },
            "type": "scatterternary"
           }
          ],
          "surface": [
           {
            "colorbar": {
             "outlinewidth": 0,
             "ticks": ""
            },
            "colorscale": [
             [
              0,
              "#0d0887"
             ],
             [
              0.1111111111111111,
              "#46039f"
             ],
             [
              0.2222222222222222,
              "#7201a8"
             ],
             [
              0.3333333333333333,
              "#9c179e"
             ],
             [
              0.4444444444444444,
              "#bd3786"
             ],
             [
              0.5555555555555556,
              "#d8576b"
             ],
             [
              0.6666666666666666,
              "#ed7953"
             ],
             [
              0.7777777777777778,
              "#fb9f3a"
             ],
             [
              0.8888888888888888,
              "#fdca26"
             ],
             [
              1,
              "#f0f921"
             ]
            ],
            "type": "surface"
           }
          ],
          "table": [
           {
            "cells": {
             "fill": {
              "color": "#EBF0F8"
             },
             "line": {
              "color": "white"
             }
            },
            "header": {
             "fill": {
              "color": "#C8D4E3"
             },
             "line": {
              "color": "white"
             }
            },
            "type": "table"
           }
          ]
         },
         "layout": {
          "annotationdefaults": {
           "arrowcolor": "#2a3f5f",
           "arrowhead": 0,
           "arrowwidth": 1
          },
          "autotypenumbers": "strict",
          "coloraxis": {
           "colorbar": {
            "outlinewidth": 0,
            "ticks": ""
           }
          },
          "colorscale": {
           "diverging": [
            [
             0,
             "#8e0152"
            ],
            [
             0.1,
             "#c51b7d"
            ],
            [
             0.2,
             "#de77ae"
            ],
            [
             0.3,
             "#f1b6da"
            ],
            [
             0.4,
             "#fde0ef"
            ],
            [
             0.5,
             "#f7f7f7"
            ],
            [
             0.6,
             "#e6f5d0"
            ],
            [
             0.7,
             "#b8e186"
            ],
            [
             0.8,
             "#7fbc41"
            ],
            [
             0.9,
             "#4d9221"
            ],
            [
             1,
             "#276419"
            ]
           ],
           "sequential": [
            [
             0,
             "#0d0887"
            ],
            [
             0.1111111111111111,
             "#46039f"
            ],
            [
             0.2222222222222222,
             "#7201a8"
            ],
            [
             0.3333333333333333,
             "#9c179e"
            ],
            [
             0.4444444444444444,
             "#bd3786"
            ],
            [
             0.5555555555555556,
             "#d8576b"
            ],
            [
             0.6666666666666666,
             "#ed7953"
            ],
            [
             0.7777777777777778,
             "#fb9f3a"
            ],
            [
             0.8888888888888888,
             "#fdca26"
            ],
            [
             1,
             "#f0f921"
            ]
           ],
           "sequentialminus": [
            [
             0,
             "#0d0887"
            ],
            [
             0.1111111111111111,
             "#46039f"
            ],
            [
             0.2222222222222222,
             "#7201a8"
            ],
            [
             0.3333333333333333,
             "#9c179e"
            ],
            [
             0.4444444444444444,
             "#bd3786"
            ],
            [
             0.5555555555555556,
             "#d8576b"
            ],
            [
             0.6666666666666666,
             "#ed7953"
            ],
            [
             0.7777777777777778,
             "#fb9f3a"
            ],
            [
             0.8888888888888888,
             "#fdca26"
            ],
            [
             1,
             "#f0f921"
            ]
           ]
          },
          "colorway": [
           "#636efa",
           "#EF553B",
           "#00cc96",
           "#ab63fa",
           "#FFA15A",
           "#19d3f3",
           "#FF6692",
           "#B6E880",
           "#FF97FF",
           "#FECB52"
          ],
          "font": {
           "color": "#2a3f5f"
          },
          "geo": {
           "bgcolor": "white",
           "lakecolor": "white",
           "landcolor": "#E5ECF6",
           "showlakes": true,
           "showland": true,
           "subunitcolor": "white"
          },
          "hoverlabel": {
           "align": "left"
          },
          "hovermode": "closest",
          "mapbox": {
           "style": "light"
          },
          "paper_bgcolor": "white",
          "plot_bgcolor": "#E5ECF6",
          "polar": {
           "angularaxis": {
            "gridcolor": "white",
            "linecolor": "white",
            "ticks": ""
           },
           "bgcolor": "#E5ECF6",
           "radialaxis": {
            "gridcolor": "white",
            "linecolor": "white",
            "ticks": ""
           }
          },
          "scene": {
           "xaxis": {
            "backgroundcolor": "#E5ECF6",
            "gridcolor": "white",
            "gridwidth": 2,
            "linecolor": "white",
            "showbackground": true,
            "ticks": "",
            "zerolinecolor": "white"
           },
           "yaxis": {
            "backgroundcolor": "#E5ECF6",
            "gridcolor": "white",
            "gridwidth": 2,
            "linecolor": "white",
            "showbackground": true,
            "ticks": "",
            "zerolinecolor": "white"
           },
           "zaxis": {
            "backgroundcolor": "#E5ECF6",
            "gridcolor": "white",
            "gridwidth": 2,
            "linecolor": "white",
            "showbackground": true,
            "ticks": "",
            "zerolinecolor": "white"
           }
          },
          "shapedefaults": {
           "line": {
            "color": "#2a3f5f"
           }
          },
          "ternary": {
           "aaxis": {
            "gridcolor": "white",
            "linecolor": "white",
            "ticks": ""
           },
           "baxis": {
            "gridcolor": "white",
            "linecolor": "white",
            "ticks": ""
           },
           "bgcolor": "#E5ECF6",
           "caxis": {
            "gridcolor": "white",
            "linecolor": "white",
            "ticks": ""
           }
          },
          "title": {
           "x": 0.05
          },
          "xaxis": {
           "automargin": true,
           "gridcolor": "white",
           "linecolor": "white",
           "ticks": "",
           "title": {
            "standoff": 15
           },
           "zerolinecolor": "white",
           "zerolinewidth": 2
          },
          "yaxis": {
           "automargin": true,
           "gridcolor": "white",
           "linecolor": "white",
           "ticks": "",
           "title": {
            "standoff": 15
           },
           "zerolinecolor": "white",
           "zerolinewidth": 2
          }
         }
        },
        "title": {
         "text": "Objective Distance over Iterations with mutation rate 50.0 %"
        },
        "xaxis": {
         "title": {
          "text": "Iterations"
         }
        },
        "yaxis": {
         "autorange": true,
         "title": {
          "text": "Objective Distance"
         },
         "type": "log"
        }
       }
      }
     },
     "metadata": {},
     "output_type": "display_data"
    },
    {
     "data": {
      "application/vnd.plotly.v1+json": {
       "config": {
        "plotlyServerURL": "https://plot.ly"
       },
       "data": [
        {
         "line": {
          "color": "blue"
         },
         "marker": {
          "symbol": "circle"
         },
         "mode": "lines+markers",
         "name": "Best Fitness",
         "type": "scatter",
         "x": [
          0,
          1,
          2,
          3,
          4,
          5,
          6,
          7,
          8,
          9,
          10,
          11,
          12,
          13,
          14,
          15,
          16,
          17,
          18,
          19,
          20,
          21,
          22,
          23,
          24
         ],
         "y": [
          2844603.338960442,
          2171410.743557724,
          1402934.6229484368,
          960067.9079846173,
          658238.6333559979,
          495630.809582537,
          393490.2887161636,
          332161.778115937,
          277775.66504756024,
          239888.3317143832,
          218868.43731936012,
          214984.83032429736,
          208363.13176621185,
          202126.64950747622,
          199617.57407619446,
          196604.31115856065,
          192033.9800650425,
          188154.56987964283,
          184043.6489512267,
          180909.19654991073,
          180909.19654991073,
          180404.6601424238,
          179142.1851437517,
          179142.1851437517,
          179142.1851437517
         ]
        },
        {
         "line": {
          "color": "orange"
         },
         "marker": {
          "symbol": "x"
         },
         "mode": "lines+markers",
         "name": "Mean Fitness",
         "type": "scatter",
         "x": [
          0,
          1,
          2,
          3,
          4,
          5,
          6,
          7,
          8,
          9,
          10,
          11,
          12,
          13,
          14,
          15,
          16,
          17,
          18,
          19,
          20,
          21,
          22,
          23,
          24
         ],
         "y": [
          7361169.430707916,
          7821457.483830696,
          6626413.563575674,
          8060297.60602243,
          6671773.119459546,
          7045656.361987074,
          9861596.062966576,
          9633233.18186419,
          8731191.179664979,
          9362511.529932028,
          9520859.902186982,
          8624920.84188997,
          6906052.802456149,
          7810822.3814547835,
          7278389.129465339,
          6357173.089081514,
          7413177.574985332,
          8129858.932331202,
          7760315.597336501,
          6776785.693281789,
          7343831.183193381,
          7809846.973815327,
          8385276.686484751,
          7770790.927239126,
          9858949.875273976
         ]
        }
       ],
       "layout": {
        "annotations": [
         {
          "arrowhead": 1,
          "ax": -10,
          "ay": -40,
          "bgcolor": "white",
          "bordercolor": "black",
          "showarrow": true,
          "text": "Best: 179142.1851437517<br>Mean: 9858949.875273976",
          "x": 24,
          "y": 179142.1851437517
         }
        ],
        "hovermode": "x",
        "legend": {
         "x": 0,
         "y": 1
        },
        "template": {
         "data": {
          "bar": [
           {
            "error_x": {
             "color": "#2a3f5f"
            },
            "error_y": {
             "color": "#2a3f5f"
            },
            "marker": {
             "line": {
              "color": "#E5ECF6",
              "width": 0.5
             },
             "pattern": {
              "fillmode": "overlay",
              "size": 10,
              "solidity": 0.2
             }
            },
            "type": "bar"
           }
          ],
          "barpolar": [
           {
            "marker": {
             "line": {
              "color": "#E5ECF6",
              "width": 0.5
             },
             "pattern": {
              "fillmode": "overlay",
              "size": 10,
              "solidity": 0.2
             }
            },
            "type": "barpolar"
           }
          ],
          "carpet": [
           {
            "aaxis": {
             "endlinecolor": "#2a3f5f",
             "gridcolor": "white",
             "linecolor": "white",
             "minorgridcolor": "white",
             "startlinecolor": "#2a3f5f"
            },
            "baxis": {
             "endlinecolor": "#2a3f5f",
             "gridcolor": "white",
             "linecolor": "white",
             "minorgridcolor": "white",
             "startlinecolor": "#2a3f5f"
            },
            "type": "carpet"
           }
          ],
          "choropleth": [
           {
            "colorbar": {
             "outlinewidth": 0,
             "ticks": ""
            },
            "type": "choropleth"
           }
          ],
          "contour": [
           {
            "colorbar": {
             "outlinewidth": 0,
             "ticks": ""
            },
            "colorscale": [
             [
              0,
              "#0d0887"
             ],
             [
              0.1111111111111111,
              "#46039f"
             ],
             [
              0.2222222222222222,
              "#7201a8"
             ],
             [
              0.3333333333333333,
              "#9c179e"
             ],
             [
              0.4444444444444444,
              "#bd3786"
             ],
             [
              0.5555555555555556,
              "#d8576b"
             ],
             [
              0.6666666666666666,
              "#ed7953"
             ],
             [
              0.7777777777777778,
              "#fb9f3a"
             ],
             [
              0.8888888888888888,
              "#fdca26"
             ],
             [
              1,
              "#f0f921"
             ]
            ],
            "type": "contour"
           }
          ],
          "contourcarpet": [
           {
            "colorbar": {
             "outlinewidth": 0,
             "ticks": ""
            },
            "type": "contourcarpet"
           }
          ],
          "heatmap": [
           {
            "colorbar": {
             "outlinewidth": 0,
             "ticks": ""
            },
            "colorscale": [
             [
              0,
              "#0d0887"
             ],
             [
              0.1111111111111111,
              "#46039f"
             ],
             [
              0.2222222222222222,
              "#7201a8"
             ],
             [
              0.3333333333333333,
              "#9c179e"
             ],
             [
              0.4444444444444444,
              "#bd3786"
             ],
             [
              0.5555555555555556,
              "#d8576b"
             ],
             [
              0.6666666666666666,
              "#ed7953"
             ],
             [
              0.7777777777777778,
              "#fb9f3a"
             ],
             [
              0.8888888888888888,
              "#fdca26"
             ],
             [
              1,
              "#f0f921"
             ]
            ],
            "type": "heatmap"
           }
          ],
          "heatmapgl": [
           {
            "colorbar": {
             "outlinewidth": 0,
             "ticks": ""
            },
            "colorscale": [
             [
              0,
              "#0d0887"
             ],
             [
              0.1111111111111111,
              "#46039f"
             ],
             [
              0.2222222222222222,
              "#7201a8"
             ],
             [
              0.3333333333333333,
              "#9c179e"
             ],
             [
              0.4444444444444444,
              "#bd3786"
             ],
             [
              0.5555555555555556,
              "#d8576b"
             ],
             [
              0.6666666666666666,
              "#ed7953"
             ],
             [
              0.7777777777777778,
              "#fb9f3a"
             ],
             [
              0.8888888888888888,
              "#fdca26"
             ],
             [
              1,
              "#f0f921"
             ]
            ],
            "type": "heatmapgl"
           }
          ],
          "histogram": [
           {
            "marker": {
             "pattern": {
              "fillmode": "overlay",
              "size": 10,
              "solidity": 0.2
             }
            },
            "type": "histogram"
           }
          ],
          "histogram2d": [
           {
            "colorbar": {
             "outlinewidth": 0,
             "ticks": ""
            },
            "colorscale": [
             [
              0,
              "#0d0887"
             ],
             [
              0.1111111111111111,
              "#46039f"
             ],
             [
              0.2222222222222222,
              "#7201a8"
             ],
             [
              0.3333333333333333,
              "#9c179e"
             ],
             [
              0.4444444444444444,
              "#bd3786"
             ],
             [
              0.5555555555555556,
              "#d8576b"
             ],
             [
              0.6666666666666666,
              "#ed7953"
             ],
             [
              0.7777777777777778,
              "#fb9f3a"
             ],
             [
              0.8888888888888888,
              "#fdca26"
             ],
             [
              1,
              "#f0f921"
             ]
            ],
            "type": "histogram2d"
           }
          ],
          "histogram2dcontour": [
           {
            "colorbar": {
             "outlinewidth": 0,
             "ticks": ""
            },
            "colorscale": [
             [
              0,
              "#0d0887"
             ],
             [
              0.1111111111111111,
              "#46039f"
             ],
             [
              0.2222222222222222,
              "#7201a8"
             ],
             [
              0.3333333333333333,
              "#9c179e"
             ],
             [
              0.4444444444444444,
              "#bd3786"
             ],
             [
              0.5555555555555556,
              "#d8576b"
             ],
             [
              0.6666666666666666,
              "#ed7953"
             ],
             [
              0.7777777777777778,
              "#fb9f3a"
             ],
             [
              0.8888888888888888,
              "#fdca26"
             ],
             [
              1,
              "#f0f921"
             ]
            ],
            "type": "histogram2dcontour"
           }
          ],
          "mesh3d": [
           {
            "colorbar": {
             "outlinewidth": 0,
             "ticks": ""
            },
            "type": "mesh3d"
           }
          ],
          "parcoords": [
           {
            "line": {
             "colorbar": {
              "outlinewidth": 0,
              "ticks": ""
             }
            },
            "type": "parcoords"
           }
          ],
          "pie": [
           {
            "automargin": true,
            "type": "pie"
           }
          ],
          "scatter": [
           {
            "fillpattern": {
             "fillmode": "overlay",
             "size": 10,
             "solidity": 0.2
            },
            "type": "scatter"
           }
          ],
          "scatter3d": [
           {
            "line": {
             "colorbar": {
              "outlinewidth": 0,
              "ticks": ""
             }
            },
            "marker": {
             "colorbar": {
              "outlinewidth": 0,
              "ticks": ""
             }
            },
            "type": "scatter3d"
           }
          ],
          "scattercarpet": [
           {
            "marker": {
             "colorbar": {
              "outlinewidth": 0,
              "ticks": ""
             }
            },
            "type": "scattercarpet"
           }
          ],
          "scattergeo": [
           {
            "marker": {
             "colorbar": {
              "outlinewidth": 0,
              "ticks": ""
             }
            },
            "type": "scattergeo"
           }
          ],
          "scattergl": [
           {
            "marker": {
             "colorbar": {
              "outlinewidth": 0,
              "ticks": ""
             }
            },
            "type": "scattergl"
           }
          ],
          "scattermapbox": [
           {
            "marker": {
             "colorbar": {
              "outlinewidth": 0,
              "ticks": ""
             }
            },
            "type": "scattermapbox"
           }
          ],
          "scatterpolar": [
           {
            "marker": {
             "colorbar": {
              "outlinewidth": 0,
              "ticks": ""
             }
            },
            "type": "scatterpolar"
           }
          ],
          "scatterpolargl": [
           {
            "marker": {
             "colorbar": {
              "outlinewidth": 0,
              "ticks": ""
             }
            },
            "type": "scatterpolargl"
           }
          ],
          "scatterternary": [
           {
            "marker": {
             "colorbar": {
              "outlinewidth": 0,
              "ticks": ""
             }
            },
            "type": "scatterternary"
           }
          ],
          "surface": [
           {
            "colorbar": {
             "outlinewidth": 0,
             "ticks": ""
            },
            "colorscale": [
             [
              0,
              "#0d0887"
             ],
             [
              0.1111111111111111,
              "#46039f"
             ],
             [
              0.2222222222222222,
              "#7201a8"
             ],
             [
              0.3333333333333333,
              "#9c179e"
             ],
             [
              0.4444444444444444,
              "#bd3786"
             ],
             [
              0.5555555555555556,
              "#d8576b"
             ],
             [
              0.6666666666666666,
              "#ed7953"
             ],
             [
              0.7777777777777778,
              "#fb9f3a"
             ],
             [
              0.8888888888888888,
              "#fdca26"
             ],
             [
              1,
              "#f0f921"
             ]
            ],
            "type": "surface"
           }
          ],
          "table": [
           {
            "cells": {
             "fill": {
              "color": "#EBF0F8"
             },
             "line": {
              "color": "white"
             }
            },
            "header": {
             "fill": {
              "color": "#C8D4E3"
             },
             "line": {
              "color": "white"
             }
            },
            "type": "table"
           }
          ]
         },
         "layout": {
          "annotationdefaults": {
           "arrowcolor": "#2a3f5f",
           "arrowhead": 0,
           "arrowwidth": 1
          },
          "autotypenumbers": "strict",
          "coloraxis": {
           "colorbar": {
            "outlinewidth": 0,
            "ticks": ""
           }
          },
          "colorscale": {
           "diverging": [
            [
             0,
             "#8e0152"
            ],
            [
             0.1,
             "#c51b7d"
            ],
            [
             0.2,
             "#de77ae"
            ],
            [
             0.3,
             "#f1b6da"
            ],
            [
             0.4,
             "#fde0ef"
            ],
            [
             0.5,
             "#f7f7f7"
            ],
            [
             0.6,
             "#e6f5d0"
            ],
            [
             0.7,
             "#b8e186"
            ],
            [
             0.8,
             "#7fbc41"
            ],
            [
             0.9,
             "#4d9221"
            ],
            [
             1,
             "#276419"
            ]
           ],
           "sequential": [
            [
             0,
             "#0d0887"
            ],
            [
             0.1111111111111111,
             "#46039f"
            ],
            [
             0.2222222222222222,
             "#7201a8"
            ],
            [
             0.3333333333333333,
             "#9c179e"
            ],
            [
             0.4444444444444444,
             "#bd3786"
            ],
            [
             0.5555555555555556,
             "#d8576b"
            ],
            [
             0.6666666666666666,
             "#ed7953"
            ],
            [
             0.7777777777777778,
             "#fb9f3a"
            ],
            [
             0.8888888888888888,
             "#fdca26"
            ],
            [
             1,
             "#f0f921"
            ]
           ],
           "sequentialminus": [
            [
             0,
             "#0d0887"
            ],
            [
             0.1111111111111111,
             "#46039f"
            ],
            [
             0.2222222222222222,
             "#7201a8"
            ],
            [
             0.3333333333333333,
             "#9c179e"
            ],
            [
             0.4444444444444444,
             "#bd3786"
            ],
            [
             0.5555555555555556,
             "#d8576b"
            ],
            [
             0.6666666666666666,
             "#ed7953"
            ],
            [
             0.7777777777777778,
             "#fb9f3a"
            ],
            [
             0.8888888888888888,
             "#fdca26"
            ],
            [
             1,
             "#f0f921"
            ]
           ]
          },
          "colorway": [
           "#636efa",
           "#EF553B",
           "#00cc96",
           "#ab63fa",
           "#FFA15A",
           "#19d3f3",
           "#FF6692",
           "#B6E880",
           "#FF97FF",
           "#FECB52"
          ],
          "font": {
           "color": "#2a3f5f"
          },
          "geo": {
           "bgcolor": "white",
           "lakecolor": "white",
           "landcolor": "#E5ECF6",
           "showlakes": true,
           "showland": true,
           "subunitcolor": "white"
          },
          "hoverlabel": {
           "align": "left"
          },
          "hovermode": "closest",
          "mapbox": {
           "style": "light"
          },
          "paper_bgcolor": "white",
          "plot_bgcolor": "#E5ECF6",
          "polar": {
           "angularaxis": {
            "gridcolor": "white",
            "linecolor": "white",
            "ticks": ""
           },
           "bgcolor": "#E5ECF6",
           "radialaxis": {
            "gridcolor": "white",
            "linecolor": "white",
            "ticks": ""
           }
          },
          "scene": {
           "xaxis": {
            "backgroundcolor": "#E5ECF6",
            "gridcolor": "white",
            "gridwidth": 2,
            "linecolor": "white",
            "showbackground": true,
            "ticks": "",
            "zerolinecolor": "white"
           },
           "yaxis": {
            "backgroundcolor": "#E5ECF6",
            "gridcolor": "white",
            "gridwidth": 2,
            "linecolor": "white",
            "showbackground": true,
            "ticks": "",
            "zerolinecolor": "white"
           },
           "zaxis": {
            "backgroundcolor": "#E5ECF6",
            "gridcolor": "white",
            "gridwidth": 2,
            "linecolor": "white",
            "showbackground": true,
            "ticks": "",
            "zerolinecolor": "white"
           }
          },
          "shapedefaults": {
           "line": {
            "color": "#2a3f5f"
           }
          },
          "ternary": {
           "aaxis": {
            "gridcolor": "white",
            "linecolor": "white",
            "ticks": ""
           },
           "baxis": {
            "gridcolor": "white",
            "linecolor": "white",
            "ticks": ""
           },
           "bgcolor": "#E5ECF6",
           "caxis": {
            "gridcolor": "white",
            "linecolor": "white",
            "ticks": ""
           }
          },
          "title": {
           "x": 0.05
          },
          "xaxis": {
           "automargin": true,
           "gridcolor": "white",
           "linecolor": "white",
           "ticks": "",
           "title": {
            "standoff": 15
           },
           "zerolinecolor": "white",
           "zerolinewidth": 2
          },
          "yaxis": {
           "automargin": true,
           "gridcolor": "white",
           "linecolor": "white",
           "ticks": "",
           "title": {
            "standoff": 15
           },
           "zerolinecolor": "white",
           "zerolinewidth": 2
          }
         }
        },
        "title": {
         "text": "Fitness over Iterations with mutation rate 50.0 %"
        },
        "xaxis": {
         "title": {
          "text": "Iterations"
         }
        },
        "yaxis": {
         "autorange": true,
         "title": {
          "text": "Fitness"
         },
         "type": "log"
        }
       }
      }
     },
     "metadata": {},
     "output_type": "display_data"
    },
    {
     "data": {
      "application/vnd.plotly.v1+json": {
       "config": {
        "plotlyServerURL": "https://plot.ly"
       },
       "data": [
        {
         "line": {
          "color": "blue"
         },
         "marker": {
          "symbol": "circle"
         },
         "mode": "lines+markers",
         "name": "Num Unique Solutions",
         "type": "scatter",
         "x": [
          0,
          1,
          2,
          3,
          4,
          5,
          6,
          7,
          8,
          9,
          10,
          11,
          12,
          13,
          14,
          15,
          16,
          17,
          18,
          19,
          20,
          21,
          22,
          23,
          24
         ],
         "y": [
          15,
          15,
          15,
          15,
          15,
          15,
          15,
          15,
          15,
          15,
          15,
          15,
          15,
          15,
          15,
          15,
          15,
          15,
          15,
          15,
          15,
          15,
          15,
          15,
          15
         ]
        },
        {
         "line": {
          "color": "orange"
         },
         "marker": {
          "symbol": "x"
         },
         "mode": "lines+markers",
         "name": " Num Repeated Solutions",
         "type": "scatter",
         "x": [
          0,
          1,
          2,
          3,
          4,
          5,
          6,
          7,
          8,
          9,
          10,
          11,
          12,
          13,
          14,
          15,
          16,
          17,
          18,
          19,
          20,
          21,
          22,
          23,
          24
         ],
         "y": [
          0,
          0,
          0,
          0,
          0,
          0,
          0,
          0,
          0,
          0,
          0,
          0,
          0,
          0,
          0,
          0,
          0,
          0,
          0,
          0,
          0,
          0,
          0,
          0,
          0
         ]
        }
       ],
       "layout": {
        "hovermode": "x",
        "legend": {
         "x": 0,
         "y": 1
        },
        "template": {
         "data": {
          "bar": [
           {
            "error_x": {
             "color": "#2a3f5f"
            },
            "error_y": {
             "color": "#2a3f5f"
            },
            "marker": {
             "line": {
              "color": "#E5ECF6",
              "width": 0.5
             },
             "pattern": {
              "fillmode": "overlay",
              "size": 10,
              "solidity": 0.2
             }
            },
            "type": "bar"
           }
          ],
          "barpolar": [
           {
            "marker": {
             "line": {
              "color": "#E5ECF6",
              "width": 0.5
             },
             "pattern": {
              "fillmode": "overlay",
              "size": 10,
              "solidity": 0.2
             }
            },
            "type": "barpolar"
           }
          ],
          "carpet": [
           {
            "aaxis": {
             "endlinecolor": "#2a3f5f",
             "gridcolor": "white",
             "linecolor": "white",
             "minorgridcolor": "white",
             "startlinecolor": "#2a3f5f"
            },
            "baxis": {
             "endlinecolor": "#2a3f5f",
             "gridcolor": "white",
             "linecolor": "white",
             "minorgridcolor": "white",
             "startlinecolor": "#2a3f5f"
            },
            "type": "carpet"
           }
          ],
          "choropleth": [
           {
            "colorbar": {
             "outlinewidth": 0,
             "ticks": ""
            },
            "type": "choropleth"
           }
          ],
          "contour": [
           {
            "colorbar": {
             "outlinewidth": 0,
             "ticks": ""
            },
            "colorscale": [
             [
              0,
              "#0d0887"
             ],
             [
              0.1111111111111111,
              "#46039f"
             ],
             [
              0.2222222222222222,
              "#7201a8"
             ],
             [
              0.3333333333333333,
              "#9c179e"
             ],
             [
              0.4444444444444444,
              "#bd3786"
             ],
             [
              0.5555555555555556,
              "#d8576b"
             ],
             [
              0.6666666666666666,
              "#ed7953"
             ],
             [
              0.7777777777777778,
              "#fb9f3a"
             ],
             [
              0.8888888888888888,
              "#fdca26"
             ],
             [
              1,
              "#f0f921"
             ]
            ],
            "type": "contour"
           }
          ],
          "contourcarpet": [
           {
            "colorbar": {
             "outlinewidth": 0,
             "ticks": ""
            },
            "type": "contourcarpet"
           }
          ],
          "heatmap": [
           {
            "colorbar": {
             "outlinewidth": 0,
             "ticks": ""
            },
            "colorscale": [
             [
              0,
              "#0d0887"
             ],
             [
              0.1111111111111111,
              "#46039f"
             ],
             [
              0.2222222222222222,
              "#7201a8"
             ],
             [
              0.3333333333333333,
              "#9c179e"
             ],
             [
              0.4444444444444444,
              "#bd3786"
             ],
             [
              0.5555555555555556,
              "#d8576b"
             ],
             [
              0.6666666666666666,
              "#ed7953"
             ],
             [
              0.7777777777777778,
              "#fb9f3a"
             ],
             [
              0.8888888888888888,
              "#fdca26"
             ],
             [
              1,
              "#f0f921"
             ]
            ],
            "type": "heatmap"
           }
          ],
          "heatmapgl": [
           {
            "colorbar": {
             "outlinewidth": 0,
             "ticks": ""
            },
            "colorscale": [
             [
              0,
              "#0d0887"
             ],
             [
              0.1111111111111111,
              "#46039f"
             ],
             [
              0.2222222222222222,
              "#7201a8"
             ],
             [
              0.3333333333333333,
              "#9c179e"
             ],
             [
              0.4444444444444444,
              "#bd3786"
             ],
             [
              0.5555555555555556,
              "#d8576b"
             ],
             [
              0.6666666666666666,
              "#ed7953"
             ],
             [
              0.7777777777777778,
              "#fb9f3a"
             ],
             [
              0.8888888888888888,
              "#fdca26"
             ],
             [
              1,
              "#f0f921"
             ]
            ],
            "type": "heatmapgl"
           }
          ],
          "histogram": [
           {
            "marker": {
             "pattern": {
              "fillmode": "overlay",
              "size": 10,
              "solidity": 0.2
             }
            },
            "type": "histogram"
           }
          ],
          "histogram2d": [
           {
            "colorbar": {
             "outlinewidth": 0,
             "ticks": ""
            },
            "colorscale": [
             [
              0,
              "#0d0887"
             ],
             [
              0.1111111111111111,
              "#46039f"
             ],
             [
              0.2222222222222222,
              "#7201a8"
             ],
             [
              0.3333333333333333,
              "#9c179e"
             ],
             [
              0.4444444444444444,
              "#bd3786"
             ],
             [
              0.5555555555555556,
              "#d8576b"
             ],
             [
              0.6666666666666666,
              "#ed7953"
             ],
             [
              0.7777777777777778,
              "#fb9f3a"
             ],
             [
              0.8888888888888888,
              "#fdca26"
             ],
             [
              1,
              "#f0f921"
             ]
            ],
            "type": "histogram2d"
           }
          ],
          "histogram2dcontour": [
           {
            "colorbar": {
             "outlinewidth": 0,
             "ticks": ""
            },
            "colorscale": [
             [
              0,
              "#0d0887"
             ],
             [
              0.1111111111111111,
              "#46039f"
             ],
             [
              0.2222222222222222,
              "#7201a8"
             ],
             [
              0.3333333333333333,
              "#9c179e"
             ],
             [
              0.4444444444444444,
              "#bd3786"
             ],
             [
              0.5555555555555556,
              "#d8576b"
             ],
             [
              0.6666666666666666,
              "#ed7953"
             ],
             [
              0.7777777777777778,
              "#fb9f3a"
             ],
             [
              0.8888888888888888,
              "#fdca26"
             ],
             [
              1,
              "#f0f921"
             ]
            ],
            "type": "histogram2dcontour"
           }
          ],
          "mesh3d": [
           {
            "colorbar": {
             "outlinewidth": 0,
             "ticks": ""
            },
            "type": "mesh3d"
           }
          ],
          "parcoords": [
           {
            "line": {
             "colorbar": {
              "outlinewidth": 0,
              "ticks": ""
             }
            },
            "type": "parcoords"
           }
          ],
          "pie": [
           {
            "automargin": true,
            "type": "pie"
           }
          ],
          "scatter": [
           {
            "fillpattern": {
             "fillmode": "overlay",
             "size": 10,
             "solidity": 0.2
            },
            "type": "scatter"
           }
          ],
          "scatter3d": [
           {
            "line": {
             "colorbar": {
              "outlinewidth": 0,
              "ticks": ""
             }
            },
            "marker": {
             "colorbar": {
              "outlinewidth": 0,
              "ticks": ""
             }
            },
            "type": "scatter3d"
           }
          ],
          "scattercarpet": [
           {
            "marker": {
             "colorbar": {
              "outlinewidth": 0,
              "ticks": ""
             }
            },
            "type": "scattercarpet"
           }
          ],
          "scattergeo": [
           {
            "marker": {
             "colorbar": {
              "outlinewidth": 0,
              "ticks": ""
             }
            },
            "type": "scattergeo"
           }
          ],
          "scattergl": [
           {
            "marker": {
             "colorbar": {
              "outlinewidth": 0,
              "ticks": ""
             }
            },
            "type": "scattergl"
           }
          ],
          "scattermapbox": [
           {
            "marker": {
             "colorbar": {
              "outlinewidth": 0,
              "ticks": ""
             }
            },
            "type": "scattermapbox"
           }
          ],
          "scatterpolar": [
           {
            "marker": {
             "colorbar": {
              "outlinewidth": 0,
              "ticks": ""
             }
            },
            "type": "scatterpolar"
           }
          ],
          "scatterpolargl": [
           {
            "marker": {
             "colorbar": {
              "outlinewidth": 0,
              "ticks": ""
             }
            },
            "type": "scatterpolargl"
           }
          ],
          "scatterternary": [
           {
            "marker": {
             "colorbar": {
              "outlinewidth": 0,
              "ticks": ""
             }
            },
            "type": "scatterternary"
           }
          ],
          "surface": [
           {
            "colorbar": {
             "outlinewidth": 0,
             "ticks": ""
            },
            "colorscale": [
             [
              0,
              "#0d0887"
             ],
             [
              0.1111111111111111,
              "#46039f"
             ],
             [
              0.2222222222222222,
              "#7201a8"
             ],
             [
              0.3333333333333333,
              "#9c179e"
             ],
             [
              0.4444444444444444,
              "#bd3786"
             ],
             [
              0.5555555555555556,
              "#d8576b"
             ],
             [
              0.6666666666666666,
              "#ed7953"
             ],
             [
              0.7777777777777778,
              "#fb9f3a"
             ],
             [
              0.8888888888888888,
              "#fdca26"
             ],
             [
              1,
              "#f0f921"
             ]
            ],
            "type": "surface"
           }
          ],
          "table": [
           {
            "cells": {
             "fill": {
              "color": "#EBF0F8"
             },
             "line": {
              "color": "white"
             }
            },
            "header": {
             "fill": {
              "color": "#C8D4E3"
             },
             "line": {
              "color": "white"
             }
            },
            "type": "table"
           }
          ]
         },
         "layout": {
          "annotationdefaults": {
           "arrowcolor": "#2a3f5f",
           "arrowhead": 0,
           "arrowwidth": 1
          },
          "autotypenumbers": "strict",
          "coloraxis": {
           "colorbar": {
            "outlinewidth": 0,
            "ticks": ""
           }
          },
          "colorscale": {
           "diverging": [
            [
             0,
             "#8e0152"
            ],
            [
             0.1,
             "#c51b7d"
            ],
            [
             0.2,
             "#de77ae"
            ],
            [
             0.3,
             "#f1b6da"
            ],
            [
             0.4,
             "#fde0ef"
            ],
            [
             0.5,
             "#f7f7f7"
            ],
            [
             0.6,
             "#e6f5d0"
            ],
            [
             0.7,
             "#b8e186"
            ],
            [
             0.8,
             "#7fbc41"
            ],
            [
             0.9,
             "#4d9221"
            ],
            [
             1,
             "#276419"
            ]
           ],
           "sequential": [
            [
             0,
             "#0d0887"
            ],
            [
             0.1111111111111111,
             "#46039f"
            ],
            [
             0.2222222222222222,
             "#7201a8"
            ],
            [
             0.3333333333333333,
             "#9c179e"
            ],
            [
             0.4444444444444444,
             "#bd3786"
            ],
            [
             0.5555555555555556,
             "#d8576b"
            ],
            [
             0.6666666666666666,
             "#ed7953"
            ],
            [
             0.7777777777777778,
             "#fb9f3a"
            ],
            [
             0.8888888888888888,
             "#fdca26"
            ],
            [
             1,
             "#f0f921"
            ]
           ],
           "sequentialminus": [
            [
             0,
             "#0d0887"
            ],
            [
             0.1111111111111111,
             "#46039f"
            ],
            [
             0.2222222222222222,
             "#7201a8"
            ],
            [
             0.3333333333333333,
             "#9c179e"
            ],
            [
             0.4444444444444444,
             "#bd3786"
            ],
            [
             0.5555555555555556,
             "#d8576b"
            ],
            [
             0.6666666666666666,
             "#ed7953"
            ],
            [
             0.7777777777777778,
             "#fb9f3a"
            ],
            [
             0.8888888888888888,
             "#fdca26"
            ],
            [
             1,
             "#f0f921"
            ]
           ]
          },
          "colorway": [
           "#636efa",
           "#EF553B",
           "#00cc96",
           "#ab63fa",
           "#FFA15A",
           "#19d3f3",
           "#FF6692",
           "#B6E880",
           "#FF97FF",
           "#FECB52"
          ],
          "font": {
           "color": "#2a3f5f"
          },
          "geo": {
           "bgcolor": "white",
           "lakecolor": "white",
           "landcolor": "#E5ECF6",
           "showlakes": true,
           "showland": true,
           "subunitcolor": "white"
          },
          "hoverlabel": {
           "align": "left"
          },
          "hovermode": "closest",
          "mapbox": {
           "style": "light"
          },
          "paper_bgcolor": "white",
          "plot_bgcolor": "#E5ECF6",
          "polar": {
           "angularaxis": {
            "gridcolor": "white",
            "linecolor": "white",
            "ticks": ""
           },
           "bgcolor": "#E5ECF6",
           "radialaxis": {
            "gridcolor": "white",
            "linecolor": "white",
            "ticks": ""
           }
          },
          "scene": {
           "xaxis": {
            "backgroundcolor": "#E5ECF6",
            "gridcolor": "white",
            "gridwidth": 2,
            "linecolor": "white",
            "showbackground": true,
            "ticks": "",
            "zerolinecolor": "white"
           },
           "yaxis": {
            "backgroundcolor": "#E5ECF6",
            "gridcolor": "white",
            "gridwidth": 2,
            "linecolor": "white",
            "showbackground": true,
            "ticks": "",
            "zerolinecolor": "white"
           },
           "zaxis": {
            "backgroundcolor": "#E5ECF6",
            "gridcolor": "white",
            "gridwidth": 2,
            "linecolor": "white",
            "showbackground": true,
            "ticks": "",
            "zerolinecolor": "white"
           }
          },
          "shapedefaults": {
           "line": {
            "color": "#2a3f5f"
           }
          },
          "ternary": {
           "aaxis": {
            "gridcolor": "white",
            "linecolor": "white",
            "ticks": ""
           },
           "baxis": {
            "gridcolor": "white",
            "linecolor": "white",
            "ticks": ""
           },
           "bgcolor": "#E5ECF6",
           "caxis": {
            "gridcolor": "white",
            "linecolor": "white",
            "ticks": ""
           }
          },
          "title": {
           "x": 0.05
          },
          "xaxis": {
           "automargin": true,
           "gridcolor": "white",
           "linecolor": "white",
           "ticks": "",
           "title": {
            "standoff": 15
           },
           "zerolinecolor": "white",
           "zerolinewidth": 2
          },
          "yaxis": {
           "automargin": true,
           "gridcolor": "white",
           "linecolor": "white",
           "ticks": "",
           "title": {
            "standoff": 15
           },
           "zerolinecolor": "white",
           "zerolinewidth": 2
          }
         }
        },
        "title": {
         "text": "Number of unique solutions and repeated solution over Iterations with mutation rate 50.0 %"
        },
        "xaxis": {
         "title": {
          "text": "Iterations"
         }
        },
        "yaxis": {
         "title": {
          "text": "Number Unique and Repeated solutions"
         }
        }
       }
      }
     },
     "metadata": {},
     "output_type": "display_data"
    },
    {
     "data": {
      "application/vnd.plotly.v1+json": {
       "config": {
        "plotlyServerURL": "https://plot.ly"
       },
       "data": [
        {
         "line": {
          "color": "blue"
         },
         "marker": {
          "symbol": "circle"
         },
         "mode": "lines+markers",
         "name": "Hamming distance",
         "type": "scatter",
         "x": [
          0,
          1,
          2,
          3,
          4,
          5,
          6,
          7,
          8,
          9,
          10,
          11,
          12,
          13,
          14,
          15,
          16,
          17,
          18,
          19,
          20,
          21,
          22,
          23,
          24
         ],
         "y": [
          0.9199407407407408,
          0.9279762962962965,
          0.9229985185185186,
          0.9280237037037037,
          0.922654814814815,
          0.9193600000000001,
          0.9252859259259261,
          0.9289125925925925,
          0.9186962962962962,
          0.924065185185185,
          0.9238637037037037,
          0.9182696296296297,
          0.9141333333333334,
          0.9237333333333334,
          0.9204029629629628,
          0.92512,
          0.9310340740740741,
          0.930797037037037,
          0.926482962962963,
          0.9131851851851852,
          0.9193837037037037,
          0.9189807407407409,
          0.9256177777777779,
          0.9229866666666667,
          0.91808
         ]
        },
        {
         "line": {
          "color": "orange"
         },
         "marker": {
          "symbol": "x"
         },
         "mode": "lines+markers",
         "name": "Hamming distance crossover",
         "type": "scatter",
         "x": [
          0,
          1,
          2,
          3,
          4,
          5,
          6,
          7,
          8,
          9,
          10,
          11,
          12,
          13,
          14,
          15,
          16,
          17,
          18,
          19,
          20,
          21,
          22,
          23,
          24
         ],
         "y": [
          0.9264948148148149,
          0.9202014814814814,
          0.9077570370370373,
          0.9258311111111112,
          0.9216592592592592,
          0.9117037037037038,
          0.9157451851851853,
          0.9228088888888889,
          0.9190992592592593,
          0.9236977777777777,
          0.9137066666666668,
          0.92704,
          0.9088711111111112,
          0.9246933333333335,
          0.923602962962963,
          0.9222162962962962,
          0.9126992592592592,
          0.9197037037037036,
          0.9058488888888889,
          0.9248474074074075,
          0.9060977777777778,
          0.9187555555555555,
          0.916574814814815,
          0.904248888888889,
          0.9275377777777779
         ]
        },
        {
         "line": {
          "color": "green"
         },
         "marker": {
          "symbol": "x"
         },
         "mode": "lines+markers",
         "name": "Hamming distance mutation1",
         "type": "scatter",
         "x": [
          0,
          1,
          2,
          3,
          4,
          5,
          6,
          7,
          8,
          9,
          10,
          11,
          12,
          13,
          14,
          15,
          16,
          17,
          18,
          19,
          20,
          21,
          22,
          23,
          24
         ],
         "y": [
          0.9301688888888889,
          0.9217896296296296,
          0.9189688888888892,
          0.9298607407407408,
          0.9269925925925927,
          0.9226666666666666,
          0.9270518518518519,
          0.9254874074074074,
          0.9202725925925928,
          0.9285451851851853,
          0.9159348148148149,
          0.9301570370370371,
          0.9113837037037037,
          0.9280711111111111,
          0.9248118518518518,
          0.9256533333333332,
          0.9194903703703703,
          0.9206162962962964,
          0.9083970370370372,
          0.9256651851851851,
          0.9195377777777779,
          0.9259140740740742,
          0.9273481481481481,
          0.9164444444444444,
          0.9303466666666665
         ]
        },
        {
         "line": {
          "color": "red"
         },
         "marker": {
          "symbol": "x"
         },
         "mode": "lines+markers",
         "name": "Hamming distance mutation2",
         "type": "scatter",
         "x": [
          0,
          1,
          2,
          3,
          4,
          5,
          6,
          7,
          8,
          9,
          10,
          11,
          12,
          13,
          14,
          15,
          16,
          17,
          18,
          19,
          20,
          21,
          22,
          23,
          24
         ],
         "y": [
          0.9320888888888887,
          0.9223348148148147,
          0.9300385185185186,
          0.9265185185185186,
          0.9287111111111113,
          0.9269333333333333,
          0.9293155555555556,
          0.9273955555555556,
          0.9300385185185187,
          0.9261748148148149,
          0.9294814814814815,
          0.9246222222222222,
          0.9272533333333333,
          0.9266725925925926,
          0.9272177777777781,
          0.9257362962962962,
          0.9277866666666666,
          0.9311051851851851,
          0.9311051851851853,
          0.9266370370370371,
          0.9223585185185186,
          0.926162962962963,
          0.9256888888888889,
          0.927917037037037,
          0.926957037037037
         ]
        },
        {
         "line": {
          "color": "purple"
         },
         "marker": {
          "symbol": "x"
         },
         "mode": "lines+markers",
         "name": "Hamming distance local search",
         "type": "scatter",
         "x": [
          0,
          1,
          2,
          3,
          4,
          5,
          6,
          7,
          8,
          9,
          10,
          11,
          12,
          13,
          14,
          15,
          16,
          17,
          18,
          19,
          20,
          21,
          22,
          23,
          24
         ],
         "y": [
          0.9302044444444445,
          0.9313303703703704,
          0.9308918518518519,
          0.9314725925925926,
          0.9308444444444445,
          0.9277629629629628,
          0.9300266666666668,
          0.9266251851851854,
          0.9236859259259259,
          0.9315555555555554,
          0.917202962962963,
          0.9303585185185185,
          0.9214340740740741,
          0.929197037037037,
          0.92928,
          0.9293274074074076,
          0.9305481481481482,
          0.9281896296296296,
          0.9229155555555555,
          0.9256651851851853,
          0.9250962962962964,
          0.9302874074074076,
          0.9289600000000001,
          0.9272888888888888,
          0.9303111111111111
         ]
        },
        {
         "line": {
          "color": "pink"
         },
         "marker": {
          "symbol": "x"
         },
         "mode": "lines+markers",
         "name": "Hamming distance crossoverOld",
         "type": "scatter",
         "x": [
          0,
          1,
          2,
          3,
          4,
          5,
          6,
          7,
          8,
          9,
          10,
          11,
          12,
          13,
          14,
          15,
          16,
          17,
          18,
          19,
          20,
          21,
          22,
          23,
          24
         ],
         "y": [
          0.9264948148148149,
          0.9202014814814814,
          0.9077570370370373,
          0.9258311111111112,
          0.9216592592592592,
          0.9117037037037038,
          0.9157451851851853,
          0.9228088888888889,
          0.9190992592592593,
          0.9236977777777777,
          0.9137066666666668,
          0.92704,
          0.9088711111111112,
          0.9246933333333335,
          0.923602962962963,
          0.9222162962962962,
          0.9126992592592592,
          0.9197037037037036,
          0.9058488888888889,
          0.9248474074074075,
          0.9060977777777778,
          0.9187555555555555,
          0.916574814814815,
          0.904248888888889,
          0.9275377777777779
         ]
        }
       ],
       "layout": {
        "hovermode": "x",
        "legend": {
         "x": 0,
         "y": 1
        },
        "template": {
         "data": {
          "bar": [
           {
            "error_x": {
             "color": "#2a3f5f"
            },
            "error_y": {
             "color": "#2a3f5f"
            },
            "marker": {
             "line": {
              "color": "#E5ECF6",
              "width": 0.5
             },
             "pattern": {
              "fillmode": "overlay",
              "size": 10,
              "solidity": 0.2
             }
            },
            "type": "bar"
           }
          ],
          "barpolar": [
           {
            "marker": {
             "line": {
              "color": "#E5ECF6",
              "width": 0.5
             },
             "pattern": {
              "fillmode": "overlay",
              "size": 10,
              "solidity": 0.2
             }
            },
            "type": "barpolar"
           }
          ],
          "carpet": [
           {
            "aaxis": {
             "endlinecolor": "#2a3f5f",
             "gridcolor": "white",
             "linecolor": "white",
             "minorgridcolor": "white",
             "startlinecolor": "#2a3f5f"
            },
            "baxis": {
             "endlinecolor": "#2a3f5f",
             "gridcolor": "white",
             "linecolor": "white",
             "minorgridcolor": "white",
             "startlinecolor": "#2a3f5f"
            },
            "type": "carpet"
           }
          ],
          "choropleth": [
           {
            "colorbar": {
             "outlinewidth": 0,
             "ticks": ""
            },
            "type": "choropleth"
           }
          ],
          "contour": [
           {
            "colorbar": {
             "outlinewidth": 0,
             "ticks": ""
            },
            "colorscale": [
             [
              0,
              "#0d0887"
             ],
             [
              0.1111111111111111,
              "#46039f"
             ],
             [
              0.2222222222222222,
              "#7201a8"
             ],
             [
              0.3333333333333333,
              "#9c179e"
             ],
             [
              0.4444444444444444,
              "#bd3786"
             ],
             [
              0.5555555555555556,
              "#d8576b"
             ],
             [
              0.6666666666666666,
              "#ed7953"
             ],
             [
              0.7777777777777778,
              "#fb9f3a"
             ],
             [
              0.8888888888888888,
              "#fdca26"
             ],
             [
              1,
              "#f0f921"
             ]
            ],
            "type": "contour"
           }
          ],
          "contourcarpet": [
           {
            "colorbar": {
             "outlinewidth": 0,
             "ticks": ""
            },
            "type": "contourcarpet"
           }
          ],
          "heatmap": [
           {
            "colorbar": {
             "outlinewidth": 0,
             "ticks": ""
            },
            "colorscale": [
             [
              0,
              "#0d0887"
             ],
             [
              0.1111111111111111,
              "#46039f"
             ],
             [
              0.2222222222222222,
              "#7201a8"
             ],
             [
              0.3333333333333333,
              "#9c179e"
             ],
             [
              0.4444444444444444,
              "#bd3786"
             ],
             [
              0.5555555555555556,
              "#d8576b"
             ],
             [
              0.6666666666666666,
              "#ed7953"
             ],
             [
              0.7777777777777778,
              "#fb9f3a"
             ],
             [
              0.8888888888888888,
              "#fdca26"
             ],
             [
              1,
              "#f0f921"
             ]
            ],
            "type": "heatmap"
           }
          ],
          "heatmapgl": [
           {
            "colorbar": {
             "outlinewidth": 0,
             "ticks": ""
            },
            "colorscale": [
             [
              0,
              "#0d0887"
             ],
             [
              0.1111111111111111,
              "#46039f"
             ],
             [
              0.2222222222222222,
              "#7201a8"
             ],
             [
              0.3333333333333333,
              "#9c179e"
             ],
             [
              0.4444444444444444,
              "#bd3786"
             ],
             [
              0.5555555555555556,
              "#d8576b"
             ],
             [
              0.6666666666666666,
              "#ed7953"
             ],
             [
              0.7777777777777778,
              "#fb9f3a"
             ],
             [
              0.8888888888888888,
              "#fdca26"
             ],
             [
              1,
              "#f0f921"
             ]
            ],
            "type": "heatmapgl"
           }
          ],
          "histogram": [
           {
            "marker": {
             "pattern": {
              "fillmode": "overlay",
              "size": 10,
              "solidity": 0.2
             }
            },
            "type": "histogram"
           }
          ],
          "histogram2d": [
           {
            "colorbar": {
             "outlinewidth": 0,
             "ticks": ""
            },
            "colorscale": [
             [
              0,
              "#0d0887"
             ],
             [
              0.1111111111111111,
              "#46039f"
             ],
             [
              0.2222222222222222,
              "#7201a8"
             ],
             [
              0.3333333333333333,
              "#9c179e"
             ],
             [
              0.4444444444444444,
              "#bd3786"
             ],
             [
              0.5555555555555556,
              "#d8576b"
             ],
             [
              0.6666666666666666,
              "#ed7953"
             ],
             [
              0.7777777777777778,
              "#fb9f3a"
             ],
             [
              0.8888888888888888,
              "#fdca26"
             ],
             [
              1,
              "#f0f921"
             ]
            ],
            "type": "histogram2d"
           }
          ],
          "histogram2dcontour": [
           {
            "colorbar": {
             "outlinewidth": 0,
             "ticks": ""
            },
            "colorscale": [
             [
              0,
              "#0d0887"
             ],
             [
              0.1111111111111111,
              "#46039f"
             ],
             [
              0.2222222222222222,
              "#7201a8"
             ],
             [
              0.3333333333333333,
              "#9c179e"
             ],
             [
              0.4444444444444444,
              "#bd3786"
             ],
             [
              0.5555555555555556,
              "#d8576b"
             ],
             [
              0.6666666666666666,
              "#ed7953"
             ],
             [
              0.7777777777777778,
              "#fb9f3a"
             ],
             [
              0.8888888888888888,
              "#fdca26"
             ],
             [
              1,
              "#f0f921"
             ]
            ],
            "type": "histogram2dcontour"
           }
          ],
          "mesh3d": [
           {
            "colorbar": {
             "outlinewidth": 0,
             "ticks": ""
            },
            "type": "mesh3d"
           }
          ],
          "parcoords": [
           {
            "line": {
             "colorbar": {
              "outlinewidth": 0,
              "ticks": ""
             }
            },
            "type": "parcoords"
           }
          ],
          "pie": [
           {
            "automargin": true,
            "type": "pie"
           }
          ],
          "scatter": [
           {
            "fillpattern": {
             "fillmode": "overlay",
             "size": 10,
             "solidity": 0.2
            },
            "type": "scatter"
           }
          ],
          "scatter3d": [
           {
            "line": {
             "colorbar": {
              "outlinewidth": 0,
              "ticks": ""
             }
            },
            "marker": {
             "colorbar": {
              "outlinewidth": 0,
              "ticks": ""
             }
            },
            "type": "scatter3d"
           }
          ],
          "scattercarpet": [
           {
            "marker": {
             "colorbar": {
              "outlinewidth": 0,
              "ticks": ""
             }
            },
            "type": "scattercarpet"
           }
          ],
          "scattergeo": [
           {
            "marker": {
             "colorbar": {
              "outlinewidth": 0,
              "ticks": ""
             }
            },
            "type": "scattergeo"
           }
          ],
          "scattergl": [
           {
            "marker": {
             "colorbar": {
              "outlinewidth": 0,
              "ticks": ""
             }
            },
            "type": "scattergl"
           }
          ],
          "scattermapbox": [
           {
            "marker": {
             "colorbar": {
              "outlinewidth": 0,
              "ticks": ""
             }
            },
            "type": "scattermapbox"
           }
          ],
          "scatterpolar": [
           {
            "marker": {
             "colorbar": {
              "outlinewidth": 0,
              "ticks": ""
             }
            },
            "type": "scatterpolar"
           }
          ],
          "scatterpolargl": [
           {
            "marker": {
             "colorbar": {
              "outlinewidth": 0,
              "ticks": ""
             }
            },
            "type": "scatterpolargl"
           }
          ],
          "scatterternary": [
           {
            "marker": {
             "colorbar": {
              "outlinewidth": 0,
              "ticks": ""
             }
            },
            "type": "scatterternary"
           }
          ],
          "surface": [
           {
            "colorbar": {
             "outlinewidth": 0,
             "ticks": ""
            },
            "colorscale": [
             [
              0,
              "#0d0887"
             ],
             [
              0.1111111111111111,
              "#46039f"
             ],
             [
              0.2222222222222222,
              "#7201a8"
             ],
             [
              0.3333333333333333,
              "#9c179e"
             ],
             [
              0.4444444444444444,
              "#bd3786"
             ],
             [
              0.5555555555555556,
              "#d8576b"
             ],
             [
              0.6666666666666666,
              "#ed7953"
             ],
             [
              0.7777777777777778,
              "#fb9f3a"
             ],
             [
              0.8888888888888888,
              "#fdca26"
             ],
             [
              1,
              "#f0f921"
             ]
            ],
            "type": "surface"
           }
          ],
          "table": [
           {
            "cells": {
             "fill": {
              "color": "#EBF0F8"
             },
             "line": {
              "color": "white"
             }
            },
            "header": {
             "fill": {
              "color": "#C8D4E3"
             },
             "line": {
              "color": "white"
             }
            },
            "type": "table"
           }
          ]
         },
         "layout": {
          "annotationdefaults": {
           "arrowcolor": "#2a3f5f",
           "arrowhead": 0,
           "arrowwidth": 1
          },
          "autotypenumbers": "strict",
          "coloraxis": {
           "colorbar": {
            "outlinewidth": 0,
            "ticks": ""
           }
          },
          "colorscale": {
           "diverging": [
            [
             0,
             "#8e0152"
            ],
            [
             0.1,
             "#c51b7d"
            ],
            [
             0.2,
             "#de77ae"
            ],
            [
             0.3,
             "#f1b6da"
            ],
            [
             0.4,
             "#fde0ef"
            ],
            [
             0.5,
             "#f7f7f7"
            ],
            [
             0.6,
             "#e6f5d0"
            ],
            [
             0.7,
             "#b8e186"
            ],
            [
             0.8,
             "#7fbc41"
            ],
            [
             0.9,
             "#4d9221"
            ],
            [
             1,
             "#276419"
            ]
           ],
           "sequential": [
            [
             0,
             "#0d0887"
            ],
            [
             0.1111111111111111,
             "#46039f"
            ],
            [
             0.2222222222222222,
             "#7201a8"
            ],
            [
             0.3333333333333333,
             "#9c179e"
            ],
            [
             0.4444444444444444,
             "#bd3786"
            ],
            [
             0.5555555555555556,
             "#d8576b"
            ],
            [
             0.6666666666666666,
             "#ed7953"
            ],
            [
             0.7777777777777778,
             "#fb9f3a"
            ],
            [
             0.8888888888888888,
             "#fdca26"
            ],
            [
             1,
             "#f0f921"
            ]
           ],
           "sequentialminus": [
            [
             0,
             "#0d0887"
            ],
            [
             0.1111111111111111,
             "#46039f"
            ],
            [
             0.2222222222222222,
             "#7201a8"
            ],
            [
             0.3333333333333333,
             "#9c179e"
            ],
            [
             0.4444444444444444,
             "#bd3786"
            ],
            [
             0.5555555555555556,
             "#d8576b"
            ],
            [
             0.6666666666666666,
             "#ed7953"
            ],
            [
             0.7777777777777778,
             "#fb9f3a"
            ],
            [
             0.8888888888888888,
             "#fdca26"
            ],
            [
             1,
             "#f0f921"
            ]
           ]
          },
          "colorway": [
           "#636efa",
           "#EF553B",
           "#00cc96",
           "#ab63fa",
           "#FFA15A",
           "#19d3f3",
           "#FF6692",
           "#B6E880",
           "#FF97FF",
           "#FECB52"
          ],
          "font": {
           "color": "#2a3f5f"
          },
          "geo": {
           "bgcolor": "white",
           "lakecolor": "white",
           "landcolor": "#E5ECF6",
           "showlakes": true,
           "showland": true,
           "subunitcolor": "white"
          },
          "hoverlabel": {
           "align": "left"
          },
          "hovermode": "closest",
          "mapbox": {
           "style": "light"
          },
          "paper_bgcolor": "white",
          "plot_bgcolor": "#E5ECF6",
          "polar": {
           "angularaxis": {
            "gridcolor": "white",
            "linecolor": "white",
            "ticks": ""
           },
           "bgcolor": "#E5ECF6",
           "radialaxis": {
            "gridcolor": "white",
            "linecolor": "white",
            "ticks": ""
           }
          },
          "scene": {
           "xaxis": {
            "backgroundcolor": "#E5ECF6",
            "gridcolor": "white",
            "gridwidth": 2,
            "linecolor": "white",
            "showbackground": true,
            "ticks": "",
            "zerolinecolor": "white"
           },
           "yaxis": {
            "backgroundcolor": "#E5ECF6",
            "gridcolor": "white",
            "gridwidth": 2,
            "linecolor": "white",
            "showbackground": true,
            "ticks": "",
            "zerolinecolor": "white"
           },
           "zaxis": {
            "backgroundcolor": "#E5ECF6",
            "gridcolor": "white",
            "gridwidth": 2,
            "linecolor": "white",
            "showbackground": true,
            "ticks": "",
            "zerolinecolor": "white"
           }
          },
          "shapedefaults": {
           "line": {
            "color": "#2a3f5f"
           }
          },
          "ternary": {
           "aaxis": {
            "gridcolor": "white",
            "linecolor": "white",
            "ticks": ""
           },
           "baxis": {
            "gridcolor": "white",
            "linecolor": "white",
            "ticks": ""
           },
           "bgcolor": "#E5ECF6",
           "caxis": {
            "gridcolor": "white",
            "linecolor": "white",
            "ticks": ""
           }
          },
          "title": {
           "x": 0.05
          },
          "xaxis": {
           "automargin": true,
           "gridcolor": "white",
           "linecolor": "white",
           "ticks": "",
           "title": {
            "standoff": 15
           },
           "zerolinecolor": "white",
           "zerolinewidth": 2
          },
          "yaxis": {
           "automargin": true,
           "gridcolor": "white",
           "linecolor": "white",
           "ticks": "",
           "title": {
            "standoff": 15
           },
           "zerolinecolor": "white",
           "zerolinewidth": 2
          }
         }
        },
        "title": {
         "text": "Hamming distance over Iterations with mutation rate 50.0 %"
        },
        "xaxis": {
         "title": {
          "text": "Iterations"
         }
        },
        "yaxis": {
         "title": {
          "text": "Hamming distance"
         }
        }
       }
      }
     },
     "metadata": {},
     "output_type": "display_data"
    },
    {
     "data": {
      "application/vnd.plotly.v1+json": {
       "config": {
        "plotlyServerURL": "https://plot.ly"
       },
       "data": [
        {
         "line": {
          "color": "blue"
         },
         "marker": {
          "symbol": "circle"
         },
         "mode": "lines+markers",
         "name": "Initialization",
         "type": "scatter",
         "x": [
          0,
          1,
          2,
          3,
          4,
          5,
          6,
          7,
          8,
          9,
          10,
          11,
          12,
          13,
          14,
          15,
          16,
          17,
          18,
          19,
          20,
          21,
          22,
          23,
          24
         ],
         "y": [
          0.38457202911376953,
          0.38457202911376953,
          0.38457202911376953,
          0.38457202911376953,
          0.38457202911376953,
          0.38457202911376953,
          0.38457202911376953,
          0.38457202911376953,
          0.38457202911376953,
          0.38457202911376953,
          0.38457202911376953,
          0.38457202911376953,
          0.38457202911376953,
          0.38457202911376953,
          0.38457202911376953,
          0.38457202911376953,
          0.38457202911376953,
          0.38457202911376953,
          0.38457202911376953,
          0.38457202911376953,
          0.38457202911376953,
          0.38457202911376953,
          0.38457202911376953,
          0.38457202911376953,
          0.38457202911376953
         ]
        },
        {
         "line": {
          "color": "orange"
         },
         "marker": {
          "symbol": "circle"
         },
         "mode": "lines+markers",
         "name": "Selection",
         "type": "scatter",
         "x": [
          0,
          1,
          2,
          3,
          4,
          5,
          6,
          7,
          8,
          9,
          10,
          11,
          12,
          13,
          14,
          15,
          16,
          17,
          18,
          19,
          20,
          21,
          22,
          23,
          24
         ],
         "y": [
          0,
          0,
          0,
          0,
          0,
          0,
          0,
          0,
          0,
          0,
          0,
          0,
          0.0010104179382324219,
          0,
          0,
          0,
          0,
          0,
          0,
          0,
          0,
          0,
          0,
          0,
          0
         ]
        },
        {
         "line": {
          "color": "green"
         },
         "marker": {
          "symbol": "circle"
         },
         "mode": "lines+markers",
         "name": "Crossover",
         "type": "scatter",
         "x": [
          0,
          1,
          2,
          3,
          4,
          5,
          6,
          7,
          8,
          9,
          10,
          11,
          12,
          13,
          14,
          15,
          16,
          17,
          18,
          19,
          20,
          21,
          22,
          23,
          24
         ],
         "y": [
          0.0020668506622314453,
          0.001026153564453125,
          0.0020563602447509766,
          0.0010001659393310547,
          0.0020346641540527344,
          0.002029895782470703,
          0.0015032291412353516,
          0.0015163421630859375,
          0.0016541481018066406,
          0.0010132789611816406,
          0.0010128021240234375,
          0.002623319625854492,
          0.0009891986846923828,
          0.002001523971557617,
          0.0015034675598144531,
          0.0020020008087158203,
          0.0016679763793945312,
          0.0012428760528564453,
          0.0010004043579101562,
          0.0010590553283691406,
          0.0015034675598144531,
          0.0010004043579101562,
          0.0010027885437011719,
          0.0021953582763671875,
          0.0020112991333007812
         ]
        },
        {
         "line": {
          "color": "red"
         },
         "marker": {
          "symbol": "circle"
         },
         "mode": "lines+markers",
         "name": "Mutation",
         "type": "scatter",
         "x": [
          0,
          1,
          2,
          3,
          4,
          5,
          6,
          7,
          8,
          9,
          10,
          11,
          12,
          13,
          14,
          15,
          16,
          17,
          18,
          19,
          20,
          21,
          22,
          23,
          24
         ],
         "y": [
          0.0020055770874023438,
          0.0021560192108154297,
          0.0015058517456054688,
          0.0010001659393310547,
          0.002000570297241211,
          0.0010323524475097656,
          0.002576112747192383,
          0.0016455650329589844,
          0.001004934310913086,
          0.0015170574188232422,
          0,
          0.0015261173248291016,
          0.0010128021240234375,
          0.002504110336303711,
          0.0020155906677246094,
          0.0010004043579101562,
          0.0022711753845214844,
          0.0011487007141113281,
          0.001512289047241211,
          0.0015151500701904297,
          0.0016009807586669922,
          0.0010001659393310547,
          0.002000093460083008,
          0.0010132789611816406,
          0.0015227794647216797
         ]
        },
        {
         "line": {
          "color": "purple"
         },
         "marker": {
          "symbol": "circle"
         },
         "mode": "lines+markers",
         "name": "Elimination",
         "type": "scatter",
         "x": [
          0,
          1,
          2,
          3,
          4,
          5,
          6,
          7,
          8,
          9,
          10,
          11,
          12,
          13,
          14,
          15,
          16,
          17,
          18,
          19,
          20,
          21,
          22,
          23,
          24
         ],
         "y": [
          0.0201261043548584,
          0.020605802536010742,
          0.020832538604736328,
          0.02276468276977539,
          0.020801782608032227,
          0.02069711685180664,
          0.021961688995361328,
          0.02041482925415039,
          0.0208284854888916,
          0.020237207412719727,
          0.021770954132080078,
          0.022710323333740234,
          0.023877382278442383,
          0.020856618881225586,
          0.024850130081176758,
          0.022938966751098633,
          0.021717309951782227,
          0.021207094192504883,
          0.02186751365661621,
          0.021086692810058594,
          0.021732091903686523,
          0.023700952529907227,
          0.020928144454956055,
          0.02151036262512207,
          0.022930145263671875
         ]
        },
        {
         "line": {
          "color": "brown"
         },
         "marker": {
          "symbol": "circle"
         },
         "mode": "lines+markers",
         "name": "Mutation Population",
         "type": "scatter",
         "x": [
          0,
          1,
          2,
          3,
          4,
          5,
          6,
          7,
          8,
          9,
          10,
          11,
          12,
          13,
          14,
          15,
          16,
          17,
          18,
          19,
          20,
          21,
          22,
          23,
          24
         ],
         "y": [
          0.0020101070404052734,
          0.0020236968994140625,
          0.0015041828155517578,
          0.0020329952239990234,
          0.0010001659393310547,
          0.0010020732879638672,
          0.002032756805419922,
          0.0010006427764892578,
          0.002405405044555664,
          0.0016505718231201172,
          0.0015153884887695312,
          0.0013561248779296875,
          0.0015263557434082031,
          0.0025060176849365234,
          0.0009996891021728516,
          0.0015151500701904297,
          0.002306699752807617,
          0.002099275588989258,
          0.0020017623901367188,
          0.0005283355712890625,
          0.0010001659393310547,
          0.0010004043579101562,
          0.003325939178466797,
          0.0010004043579101562,
          0.0010001659393310547
         ]
        },
        {
         "line": {
          "color": "pink"
         },
         "marker": {
          "symbol": "circle"
         },
         "mode": "lines+markers",
         "name": "Local Search",
         "type": "scatter",
         "x": [
          0,
          1,
          2,
          3,
          4,
          5,
          6,
          7,
          8,
          9,
          10,
          11,
          12,
          13,
          14,
          15,
          16,
          17,
          18,
          19,
          20,
          21,
          22,
          23,
          24
         ],
         "y": [
          0.6660101413726807,
          6.69684362411499,
          6.56550145149231,
          6.519473552703857,
          6.598193883895874,
          6.490185499191284,
          6.499158620834351,
          6.384990215301514,
          6.4833526611328125,
          6.51675820350647,
          6.488948106765747,
          6.472593069076538,
          6.45604944229126,
          6.5836358070373535,
          6.433602333068848,
          6.440733432769775,
          6.460713624954224,
          6.360137224197388,
          6.398505449295044,
          6.402239799499512,
          6.425717115402222,
          12.487956523895264,
          6.5557708740234375,
          6.57689356803894,
          12.396841526031494
         ]
        },
        {
         "line": {
          "color": "black"
         },
         "marker": {
          "symbol": "circle"
         },
         "mode": "lines+markers",
         "name": "Total Iteration",
         "type": "scatter",
         "x": [
          0,
          1,
          2,
          3,
          4,
          5,
          6,
          7,
          8,
          9,
          10,
          11,
          12,
          13,
          14,
          15,
          16,
          17,
          18,
          19,
          20,
          21,
          22,
          23,
          24
         ],
         "y": [
          0.6979646682739258,
          6.724698543548584,
          6.596147298812866,
          6.550317287445068,
          6.626057863235474,
          6.519621133804321,
          6.530264139175415,
          6.4141929149627686,
          6.512330532073975,
          6.546315670013428,
          6.517318487167358,
          6.503425121307373,
          6.490392684936523,
          6.6155173778533936,
          6.46713662147522,
          6.570514678955078,
          6.492016792297363,
          6.3908796310424805,
          6.42831563949585,
          6.4311864376068115,
          6.456462621688843,
          12.520415544509888,
          6.588105916976929,
          6.6056132316589355,
          12.427071332931519
         ]
        }
       ],
       "layout": {
        "annotations": [
         {
          "arrowhead": 2,
          "ax": -20,
          "ay": -40,
          "bgcolor": "white",
          "bordercolor": "black",
          "showarrow": true,
          "text": "Initialization: 0.38s",
          "x": 24,
          "y": 0.38457202911376953
         },
         {
          "arrowhead": 2,
          "ax": -40,
          "ay": -40,
          "bgcolor": "white",
          "bordercolor": "black",
          "showarrow": true,
          "text": "Selection: 0.00s",
          "x": 24,
          "y": 0
         },
         {
          "arrowhead": 2,
          "ax": -60,
          "ay": -40,
          "bgcolor": "white",
          "bordercolor": "black",
          "showarrow": true,
          "text": "Crossover: 0.00s",
          "x": 24,
          "y": 0.0020112991333007812
         },
         {
          "arrowhead": 2,
          "ax": -80,
          "ay": -40,
          "bgcolor": "white",
          "bordercolor": "black",
          "showarrow": true,
          "text": "Mutation: 0.00s",
          "x": 24,
          "y": 0.0015227794647216797
         },
         {
          "arrowhead": 2,
          "ax": -100,
          "ay": -40,
          "bgcolor": "white",
          "bordercolor": "black",
          "showarrow": true,
          "text": "Elimination: 0.02s",
          "x": 24,
          "y": 0.022930145263671875
         },
         {
          "arrowhead": 2,
          "ax": -120,
          "ay": -40,
          "bgcolor": "white",
          "bordercolor": "black",
          "showarrow": true,
          "text": "Mutation Population: 0.00s",
          "x": 24,
          "y": 0.0010001659393310547
         },
         {
          "arrowhead": 2,
          "ax": -140,
          "ay": -40,
          "bgcolor": "white",
          "bordercolor": "black",
          "showarrow": true,
          "text": "Local Search: 12.40s",
          "x": 24,
          "y": 12.396841526031494
         },
         {
          "arrowhead": 2,
          "ax": -160,
          "ay": -40,
          "bgcolor": "white",
          "bordercolor": "black",
          "showarrow": true,
          "text": "Total Iteration: 12.43s",
          "x": 24,
          "y": 12.427071332931519
         }
        ],
        "hovermode": "x",
        "legend": {
         "x": 1,
         "y": 1
        },
        "template": {
         "data": {
          "bar": [
           {
            "error_x": {
             "color": "#2a3f5f"
            },
            "error_y": {
             "color": "#2a3f5f"
            },
            "marker": {
             "line": {
              "color": "#E5ECF6",
              "width": 0.5
             },
             "pattern": {
              "fillmode": "overlay",
              "size": 10,
              "solidity": 0.2
             }
            },
            "type": "bar"
           }
          ],
          "barpolar": [
           {
            "marker": {
             "line": {
              "color": "#E5ECF6",
              "width": 0.5
             },
             "pattern": {
              "fillmode": "overlay",
              "size": 10,
              "solidity": 0.2
             }
            },
            "type": "barpolar"
           }
          ],
          "carpet": [
           {
            "aaxis": {
             "endlinecolor": "#2a3f5f",
             "gridcolor": "white",
             "linecolor": "white",
             "minorgridcolor": "white",
             "startlinecolor": "#2a3f5f"
            },
            "baxis": {
             "endlinecolor": "#2a3f5f",
             "gridcolor": "white",
             "linecolor": "white",
             "minorgridcolor": "white",
             "startlinecolor": "#2a3f5f"
            },
            "type": "carpet"
           }
          ],
          "choropleth": [
           {
            "colorbar": {
             "outlinewidth": 0,
             "ticks": ""
            },
            "type": "choropleth"
           }
          ],
          "contour": [
           {
            "colorbar": {
             "outlinewidth": 0,
             "ticks": ""
            },
            "colorscale": [
             [
              0,
              "#0d0887"
             ],
             [
              0.1111111111111111,
              "#46039f"
             ],
             [
              0.2222222222222222,
              "#7201a8"
             ],
             [
              0.3333333333333333,
              "#9c179e"
             ],
             [
              0.4444444444444444,
              "#bd3786"
             ],
             [
              0.5555555555555556,
              "#d8576b"
             ],
             [
              0.6666666666666666,
              "#ed7953"
             ],
             [
              0.7777777777777778,
              "#fb9f3a"
             ],
             [
              0.8888888888888888,
              "#fdca26"
             ],
             [
              1,
              "#f0f921"
             ]
            ],
            "type": "contour"
           }
          ],
          "contourcarpet": [
           {
            "colorbar": {
             "outlinewidth": 0,
             "ticks": ""
            },
            "type": "contourcarpet"
           }
          ],
          "heatmap": [
           {
            "colorbar": {
             "outlinewidth": 0,
             "ticks": ""
            },
            "colorscale": [
             [
              0,
              "#0d0887"
             ],
             [
              0.1111111111111111,
              "#46039f"
             ],
             [
              0.2222222222222222,
              "#7201a8"
             ],
             [
              0.3333333333333333,
              "#9c179e"
             ],
             [
              0.4444444444444444,
              "#bd3786"
             ],
             [
              0.5555555555555556,
              "#d8576b"
             ],
             [
              0.6666666666666666,
              "#ed7953"
             ],
             [
              0.7777777777777778,
              "#fb9f3a"
             ],
             [
              0.8888888888888888,
              "#fdca26"
             ],
             [
              1,
              "#f0f921"
             ]
            ],
            "type": "heatmap"
           }
          ],
          "heatmapgl": [
           {
            "colorbar": {
             "outlinewidth": 0,
             "ticks": ""
            },
            "colorscale": [
             [
              0,
              "#0d0887"
             ],
             [
              0.1111111111111111,
              "#46039f"
             ],
             [
              0.2222222222222222,
              "#7201a8"
             ],
             [
              0.3333333333333333,
              "#9c179e"
             ],
             [
              0.4444444444444444,
              "#bd3786"
             ],
             [
              0.5555555555555556,
              "#d8576b"
             ],
             [
              0.6666666666666666,
              "#ed7953"
             ],
             [
              0.7777777777777778,
              "#fb9f3a"
             ],
             [
              0.8888888888888888,
              "#fdca26"
             ],
             [
              1,
              "#f0f921"
             ]
            ],
            "type": "heatmapgl"
           }
          ],
          "histogram": [
           {
            "marker": {
             "pattern": {
              "fillmode": "overlay",
              "size": 10,
              "solidity": 0.2
             }
            },
            "type": "histogram"
           }
          ],
          "histogram2d": [
           {
            "colorbar": {
             "outlinewidth": 0,
             "ticks": ""
            },
            "colorscale": [
             [
              0,
              "#0d0887"
             ],
             [
              0.1111111111111111,
              "#46039f"
             ],
             [
              0.2222222222222222,
              "#7201a8"
             ],
             [
              0.3333333333333333,
              "#9c179e"
             ],
             [
              0.4444444444444444,
              "#bd3786"
             ],
             [
              0.5555555555555556,
              "#d8576b"
             ],
             [
              0.6666666666666666,
              "#ed7953"
             ],
             [
              0.7777777777777778,
              "#fb9f3a"
             ],
             [
              0.8888888888888888,
              "#fdca26"
             ],
             [
              1,
              "#f0f921"
             ]
            ],
            "type": "histogram2d"
           }
          ],
          "histogram2dcontour": [
           {
            "colorbar": {
             "outlinewidth": 0,
             "ticks": ""
            },
            "colorscale": [
             [
              0,
              "#0d0887"
             ],
             [
              0.1111111111111111,
              "#46039f"
             ],
             [
              0.2222222222222222,
              "#7201a8"
             ],
             [
              0.3333333333333333,
              "#9c179e"
             ],
             [
              0.4444444444444444,
              "#bd3786"
             ],
             [
              0.5555555555555556,
              "#d8576b"
             ],
             [
              0.6666666666666666,
              "#ed7953"
             ],
             [
              0.7777777777777778,
              "#fb9f3a"
             ],
             [
              0.8888888888888888,
              "#fdca26"
             ],
             [
              1,
              "#f0f921"
             ]
            ],
            "type": "histogram2dcontour"
           }
          ],
          "mesh3d": [
           {
            "colorbar": {
             "outlinewidth": 0,
             "ticks": ""
            },
            "type": "mesh3d"
           }
          ],
          "parcoords": [
           {
            "line": {
             "colorbar": {
              "outlinewidth": 0,
              "ticks": ""
             }
            },
            "type": "parcoords"
           }
          ],
          "pie": [
           {
            "automargin": true,
            "type": "pie"
           }
          ],
          "scatter": [
           {
            "fillpattern": {
             "fillmode": "overlay",
             "size": 10,
             "solidity": 0.2
            },
            "type": "scatter"
           }
          ],
          "scatter3d": [
           {
            "line": {
             "colorbar": {
              "outlinewidth": 0,
              "ticks": ""
             }
            },
            "marker": {
             "colorbar": {
              "outlinewidth": 0,
              "ticks": ""
             }
            },
            "type": "scatter3d"
           }
          ],
          "scattercarpet": [
           {
            "marker": {
             "colorbar": {
              "outlinewidth": 0,
              "ticks": ""
             }
            },
            "type": "scattercarpet"
           }
          ],
          "scattergeo": [
           {
            "marker": {
             "colorbar": {
              "outlinewidth": 0,
              "ticks": ""
             }
            },
            "type": "scattergeo"
           }
          ],
          "scattergl": [
           {
            "marker": {
             "colorbar": {
              "outlinewidth": 0,
              "ticks": ""
             }
            },
            "type": "scattergl"
           }
          ],
          "scattermapbox": [
           {
            "marker": {
             "colorbar": {
              "outlinewidth": 0,
              "ticks": ""
             }
            },
            "type": "scattermapbox"
           }
          ],
          "scatterpolar": [
           {
            "marker": {
             "colorbar": {
              "outlinewidth": 0,
              "ticks": ""
             }
            },
            "type": "scatterpolar"
           }
          ],
          "scatterpolargl": [
           {
            "marker": {
             "colorbar": {
              "outlinewidth": 0,
              "ticks": ""
             }
            },
            "type": "scatterpolargl"
           }
          ],
          "scatterternary": [
           {
            "marker": {
             "colorbar": {
              "outlinewidth": 0,
              "ticks": ""
             }
            },
            "type": "scatterternary"
           }
          ],
          "surface": [
           {
            "colorbar": {
             "outlinewidth": 0,
             "ticks": ""
            },
            "colorscale": [
             [
              0,
              "#0d0887"
             ],
             [
              0.1111111111111111,
              "#46039f"
             ],
             [
              0.2222222222222222,
              "#7201a8"
             ],
             [
              0.3333333333333333,
              "#9c179e"
             ],
             [
              0.4444444444444444,
              "#bd3786"
             ],
             [
              0.5555555555555556,
              "#d8576b"
             ],
             [
              0.6666666666666666,
              "#ed7953"
             ],
             [
              0.7777777777777778,
              "#fb9f3a"
             ],
             [
              0.8888888888888888,
              "#fdca26"
             ],
             [
              1,
              "#f0f921"
             ]
            ],
            "type": "surface"
           }
          ],
          "table": [
           {
            "cells": {
             "fill": {
              "color": "#EBF0F8"
             },
             "line": {
              "color": "white"
             }
            },
            "header": {
             "fill": {
              "color": "#C8D4E3"
             },
             "line": {
              "color": "white"
             }
            },
            "type": "table"
           }
          ]
         },
         "layout": {
          "annotationdefaults": {
           "arrowcolor": "#2a3f5f",
           "arrowhead": 0,
           "arrowwidth": 1
          },
          "autotypenumbers": "strict",
          "coloraxis": {
           "colorbar": {
            "outlinewidth": 0,
            "ticks": ""
           }
          },
          "colorscale": {
           "diverging": [
            [
             0,
             "#8e0152"
            ],
            [
             0.1,
             "#c51b7d"
            ],
            [
             0.2,
             "#de77ae"
            ],
            [
             0.3,
             "#f1b6da"
            ],
            [
             0.4,
             "#fde0ef"
            ],
            [
             0.5,
             "#f7f7f7"
            ],
            [
             0.6,
             "#e6f5d0"
            ],
            [
             0.7,
             "#b8e186"
            ],
            [
             0.8,
             "#7fbc41"
            ],
            [
             0.9,
             "#4d9221"
            ],
            [
             1,
             "#276419"
            ]
           ],
           "sequential": [
            [
             0,
             "#0d0887"
            ],
            [
             0.1111111111111111,
             "#46039f"
            ],
            [
             0.2222222222222222,
             "#7201a8"
            ],
            [
             0.3333333333333333,
             "#9c179e"
            ],
            [
             0.4444444444444444,
             "#bd3786"
            ],
            [
             0.5555555555555556,
             "#d8576b"
            ],
            [
             0.6666666666666666,
             "#ed7953"
            ],
            [
             0.7777777777777778,
             "#fb9f3a"
            ],
            [
             0.8888888888888888,
             "#fdca26"
            ],
            [
             1,
             "#f0f921"
            ]
           ],
           "sequentialminus": [
            [
             0,
             "#0d0887"
            ],
            [
             0.1111111111111111,
             "#46039f"
            ],
            [
             0.2222222222222222,
             "#7201a8"
            ],
            [
             0.3333333333333333,
             "#9c179e"
            ],
            [
             0.4444444444444444,
             "#bd3786"
            ],
            [
             0.5555555555555556,
             "#d8576b"
            ],
            [
             0.6666666666666666,
             "#ed7953"
            ],
            [
             0.7777777777777778,
             "#fb9f3a"
            ],
            [
             0.8888888888888888,
             "#fdca26"
            ],
            [
             1,
             "#f0f921"
            ]
           ]
          },
          "colorway": [
           "#636efa",
           "#EF553B",
           "#00cc96",
           "#ab63fa",
           "#FFA15A",
           "#19d3f3",
           "#FF6692",
           "#B6E880",
           "#FF97FF",
           "#FECB52"
          ],
          "font": {
           "color": "#2a3f5f"
          },
          "geo": {
           "bgcolor": "white",
           "lakecolor": "white",
           "landcolor": "#E5ECF6",
           "showlakes": true,
           "showland": true,
           "subunitcolor": "white"
          },
          "hoverlabel": {
           "align": "left"
          },
          "hovermode": "closest",
          "mapbox": {
           "style": "light"
          },
          "paper_bgcolor": "white",
          "plot_bgcolor": "#E5ECF6",
          "polar": {
           "angularaxis": {
            "gridcolor": "white",
            "linecolor": "white",
            "ticks": ""
           },
           "bgcolor": "#E5ECF6",
           "radialaxis": {
            "gridcolor": "white",
            "linecolor": "white",
            "ticks": ""
           }
          },
          "scene": {
           "xaxis": {
            "backgroundcolor": "#E5ECF6",
            "gridcolor": "white",
            "gridwidth": 2,
            "linecolor": "white",
            "showbackground": true,
            "ticks": "",
            "zerolinecolor": "white"
           },
           "yaxis": {
            "backgroundcolor": "#E5ECF6",
            "gridcolor": "white",
            "gridwidth": 2,
            "linecolor": "white",
            "showbackground": true,
            "ticks": "",
            "zerolinecolor": "white"
           },
           "zaxis": {
            "backgroundcolor": "#E5ECF6",
            "gridcolor": "white",
            "gridwidth": 2,
            "linecolor": "white",
            "showbackground": true,
            "ticks": "",
            "zerolinecolor": "white"
           }
          },
          "shapedefaults": {
           "line": {
            "color": "#2a3f5f"
           }
          },
          "ternary": {
           "aaxis": {
            "gridcolor": "white",
            "linecolor": "white",
            "ticks": ""
           },
           "baxis": {
            "gridcolor": "white",
            "linecolor": "white",
            "ticks": ""
           },
           "bgcolor": "#E5ECF6",
           "caxis": {
            "gridcolor": "white",
            "linecolor": "white",
            "ticks": ""
           }
          },
          "title": {
           "x": 0.05
          },
          "xaxis": {
           "automargin": true,
           "gridcolor": "white",
           "linecolor": "white",
           "ticks": "",
           "title": {
            "standoff": 15
           },
           "zerolinecolor": "white",
           "zerolinewidth": 2
          },
          "yaxis": {
           "automargin": true,
           "gridcolor": "white",
           "linecolor": "white",
           "ticks": "",
           "title": {
            "standoff": 15
           },
           "zerolinecolor": "white",
           "zerolinewidth": 2
          }
         }
        },
        "title": {
         "text": "Timing Information Over Iterations"
        },
        "xaxis": {
         "title": {
          "text": "Iterations"
         }
        },
        "yaxis": {
         "title": {
          "text": "Time (seconds)"
         }
        }
       }
      }
     },
     "metadata": {},
     "output_type": "display_data"
    },
    {
     "name": "stdout",
     "output_type": "stream",
     "text": [
      "\n",
      " Best solution is : 179142.1851437517 \n",
      " Best solution cities are : [621 711 747 213 357 173 341 167 118 748  47 267 435 614 543 369 676 611\n",
      " 635 740 492 618 123 310  36 388 128  63 744 559 495 682  21 645 656  34\n",
      " 419 412 270 422 465 540 235 212 126 569 680 192 423 518 468  77  15 250\n",
      " 578 526 706 216 539 693 521  96 538 725 201 511 430 155  13 513 135 481\n",
      " 283  74 239 533 333 595 558 606 654 328  40 179 509 364 549  41 281 110\n",
      "  90  18 326 541 692  76 577 499 244 570  62   9 197 150 166 334 707  42\n",
      " 478 574  81 215 607 602 445 517 671 660 504 180 743 178  33 308 491 413\n",
      " 363 708 719 609 613  58 162 627 485 650 316  91 583 120 689  38 139  56\n",
      " 348 483 615 296 251 217  84 639 374 274 460 416 728 312 206 433  78 464\n",
      "  16 381 598 266 459 634 375 153 222 298 530 617 390 373 536 230 669 322\n",
      " 346 392 367 421 534 427 161 225 309 564 278 389 306 396 405 117 264 512\n",
      "  86 256  99 647 358  11 232 122 226 550 494  46 339 709 194 252 649 314\n",
      " 479 297 437 337 700 672 352 293 697 698   5 452 742 229 424 320 241 137\n",
      " 522 261 372 455  49  30 503 500 677 259  27 529 195  20 385 383  17 376\n",
      " 100 688 643 211 420 554 395 490 560 265 523 287  22 318 188 313  70 344\n",
      " 191 315 588 168 637 185 531   4   7 566  52 436 544 651 584 510 717  19\n",
      " 182 209 253 107  83 462 347 414 528 432 710 415 604 205 404 418 506 552\n",
      " 580 548 537 224 683 723 323 218 379 228 461 113 285 136 498 429 589  14\n",
      "  60 160 738 148 696 331 730 249 208 290 612 705 502 568 573 187  12 171\n",
      "  69 111 325 449 652 551 141 516 342 619 207 501 163 724 353 557 585  31\n",
      " 519 476 359 258 720  64 628 324 749  94 183 471 603 590  66 147 456 349\n",
      " 547 156 629 273 703 109 221 450 729 365 338 240 394 291  98 527 716 633\n",
      "  97 727 667 447 410 542 673 268 655 733 115 474 592  50 514 356 255 690\n",
      " 646 713 425 453  85 466 234 242  39  23 704  72 260 124 668 196 158  67\n",
      " 361 417   6 219  93 745 299 276 665 641 248 103 355 247 661 190 438 134\n",
      " 174 199 271 402 489 694 386  61 384 121 245 282 532 327 642 106 631 443\n",
      "  57 317 377 638 486 263 189 157  35  73 129 515 280 428 712  80 354 378\n",
      " 467 272 732 220 319 442 681 575 624 203 593 149 657 535 102 610  45 493\n",
      " 170 172 594 370 400 507 620 108  55 132  75 508 454 473 151 722 741 674\n",
      " 202 382 304 663 475 114 561 488 608 146 439 565 277  59 133 300 426 127\n",
      " 393 269 407 144 582 238 546 505 329 601 181 275 204 403 303 101 125  25\n",
      " 586 350 678  89  24 653  87 616 579  32 721 702 262 399 659 623   2 470\n",
      " 184 596 164 302 330 145 576 658 434 448 545 371 397 662 409 597 332 469\n",
      " 243 563 699 605 695 630 648  68 562 246 301 599 411  48 406 520 581 644\n",
      " 380 295 237  65 143 675 401 497 284 714 640   1 198 496 484 177 444 289\n",
      " 311 257 288 398 231 735 227 142 440  51   0  71 632 686 636 236 154 210\n",
      " 625 553  79 555 441 737 556 687 286 366 477 572 691 321 292 345 524  10\n",
      " 336 294  29 734 387 360 472 186 159 305 254 152 715 119 451  92 368   3\n",
      " 587  44 626 340 567   8 408  53 351 112 457 233 525 165 169 176 131 223\n",
      "  43 279 214 684 105 458 670 140 391 746  26 731 130 622 446 736 200 685\n",
      " 362  37 431 335 480 718 591 104  95  88 739 726 193 679 600  82  54 701\n",
      " 343 116 482 666  28 175 307 138 463 664 571 487]\n",
      "Time taken for GA level 1: 169.91338348388672\n"
     ]
    },
    {
     "data": {
      "image/png": "[encoded data removed]",
      "text/plain": [
       "<Figure size 640x480 with 1 Axes>"
      ]
     },
     "metadata": {},
     "output_type": "display_data"
    },
    {
     "name": "stdout",
     "output_type": "stream",
     "text": [
      "Final solution: [621 711 747 213 357 173 341 167 118 748  47 267 435 614 543 369 676 611\n",
      " 635 740 492 618 123 310  36 388 128  63 744 559 495 682  21 645 656  34\n",
      " 419 412 270 422 465 540 235 212 126 569 680 192 423 518 468  77  15 250\n",
      " 578 526 706 216 539 693 521  96 538 725 201 511 430 155  13 513 135 481\n",
      " 283  74 239 533 333 595 558 606 654 328  40 179 509 364 549  41 281 110\n",
      "  90  18 326 541 692  76 577 499 244 570  62   9 197 150 166 334 707  42\n",
      " 478 574  81 215 607 602 445 517 671 660 504 180 743 178  33 308 491 413\n",
      " 363 708 719 609 613  58 162 627 485 650 316  91 583 120 689  38 139  56\n",
      " 348 483 615 296 251 217  84 639 374 274 460 416 728 312 206 433  78 464\n",
      "  16 381 598 266 459 634 375 153 222 298 530 617 390 373 536 230 669 322\n",
      " 346 392 367 421 534 427 161 225 309 564 278 389 306 396 405 117 264 512\n",
      "  86 256  99 647 358  11 232 122 226 550 494  46 339 709 194 252 649 314\n",
      " 479 297 437 337 700 672 352 293 697 698   5 452 742 229 424 320 241 137\n",
      " 522 261 372 455  49  30 503 500 677 259  27 529 195  20 385 383  17 376\n",
      " 100 688 643 211 420 554 395 490 560 265 523 287  22 318 188 313  70 344\n",
      " 191 315 588 168 637 185 531   4   7 566  52 436 544 651 584 510 717  19\n",
      " 182 209 253 107  83 462 347 414 528 432 710 415 604 205 404 418 506 552\n",
      " 580 548 537 224 683 723 323 218 379 228 461 113 285 136 498 429 589  14\n",
      "  60 160 738 148 696 331 730 249 208 290 612 705 502 568 573 187  12 171\n",
      "  69 111 325 449 652 551 141 516 342 619 207 501 163 724 353 557 585  31\n",
      " 519 476 359 258 720  64 628 324 749  94 183 471 603 590  66 147 456 349\n",
      " 547 156 629 273 703 109 221 450 729 365 338 240 394 291  98 527 716 633\n",
      "  97 727 667 447 410 542 673 268 655 733 115 474 592  50 514 356 255 690\n",
      " 646 713 425 453  85 466 234 242  39  23 704  72 260 124 668 196 158  67\n",
      " 361 417   6 219  93 745 299 276 665 641 248 103 355 247 661 190 438 134\n",
      " 174 199 271 402 489 694 386  61 384 121 245 282 532 327 642 106 631 443\n",
      "  57 317 377 638 486 263 189 157  35  73 129 515 280 428 712  80 354 378\n",
      " 467 272 732 220 319 442 681 575 624 203 593 149 657 535 102 610  45 493\n",
      " 170 172 594 370 400 507 620 108  55 132  75 508 454 473 151 722 741 674\n",
      " 202 382 304 663 475 114 561 488 608 146 439 565 277  59 133 300 426 127\n",
      " 393 269 407 144 582 238 546 505 329 601 181 275 204 403 303 101 125  25\n",
      " 586 350 678  89  24 653  87 616 579  32 721 702 262 399 659 623   2 470\n",
      " 184 596 164 302 330 145 576 658 434 448 545 371 397 662 409 597 332 469\n",
      " 243 563 699 605 695 630 648  68 562 246 301 599 411  48 406 520 581 644\n",
      " 380 295 237  65 143 675 401 497 284 714 640   1 198 496 484 177 444 289\n",
      " 311 257 288 398 231 735 227 142 440  51   0  71 632 686 636 236 154 210\n",
      " 625 553  79 555 441 737 556 687 286 366 477 572 691 321 292 345 524  10\n",
      " 336 294  29 734 387 360 472 186 159 305 254 152 715 119 451  92 368   3\n",
      " 587  44 626 340 567   8 408  53 351 112 457 233 525 165 169 176 131 223\n",
      "  43 279 214 684 105 458 670 140 391 746  26 731 130 622 446 736 200 685\n",
      " 362  37 431 335 480 718 591 104  95  88 739 726 193 679 600  82  54 701\n",
      " 343 116 482 666  28 175 307 138 463 664 571 487] \n",
      "Number of cities: 750 & Number of unique cities: 750\n"
     ]
    }
   ],
   "source": [
    "\n",
    "def main():\n",
    "    # Create an instance of the r0818807 class\n",
    "    c = r0818807()\n",
    "\n",
    "    # Define the filename for the dataset\n",
    "    filename = 'tour1000.csv'\n",
    "\n",
    "    # Run the optimization with local search enabled\n",
    "    c.run(filename=filename, generateDataSets=False, clusters=False, local_search=True)\n",
    "\n",
    "if __name__ == \"__main__\":\n",
    "    main()"
   ]
  },
  {
   "cell_type": "code",
   "execution_count": 3,
   "metadata": {},
   "outputs": [],
   "source": [
    "c = r0818807()\n",
    "#c.optimize(filename='tour50.csv')\n",
    "filename = 'tour1000.csv'"
   ]
  },
  {
   "cell_type": "code",
   "execution_count": 4,
   "metadata": {},
   "outputs": [],
   "source": [
    "#c.test_k_means_algorithm(filename=filename)\n",
    "#c.run(filename=filename,generateDataSets=False,clusters=False,local_search=True)"
   ]
  }
 ],
 "metadata": {
  "kernelspec": {
   "display_name": "Standard_env",
   "language": "python",
   "name": "python3"
  },
  "language_info": {
   "codemirror_mode": {
    "name": "ipython",
    "version": 3
   },
   "file_extension": ".py",
   "mimetype": "text/x-python",
   "name": "python",
   "nbconvert_exporter": "python",
   "pygments_lexer": "ipython3",
   "version": "3.11.5"
  }
 },
 "nbformat": 4,
 "nbformat_minor": 2
}
