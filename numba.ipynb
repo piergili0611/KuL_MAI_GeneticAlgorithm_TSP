{
 "cells": [
  {
   "cell_type": "code",
   "execution_count": null,
   "metadata": {},
   "outputs": [],
   "source": []
  },
  {
   "cell_type": "code",
   "execution_count": 1,
   "metadata": {},
   "outputs": [],
   "source": [
    "from numba import njit, prange\n",
    "import time \n",
    "\n"
   ]
  },
  {
   "cell_type": "code",
   "execution_count": 6,
   "metadata": {},
   "outputs": [
    {
     "name": "stderr",
     "output_type": "stream",
     "text": [
      "c:\\Users\\pierg\\Desktop\\VirtualEnvironments\\Standard_env\\Lib\\site-packages\\numba\\core\\decorators.py:246: RuntimeWarning: nopython is set for njit and is ignored\n",
      "  warnings.warn('nopython is set for njit and is ignored', RuntimeWarning)\n"
     ]
    }
   ],
   "source": [
    "@njit(nopython=True, parallel=True)\n",
    "def test_yesNumba():\n",
    "    total = 0\n",
    "    for i in prange(10**8):\n",
    "        total += i + 1\n",
    "    return total\n",
    "\n",
    "def test_noNumba():\n",
    "    for i in range(10**8):\n",
    "        a = i + 1\n",
    "    return a\n",
    "\n",
    "#now also test teh same test but using numpy first with numba and tehn without\n",
    "import numpy as np\n",
    "def test_numpy_noNumba():\n",
    "    a = np.arange(10**8)\n",
    "    a = a + 1\n",
    "    return a\n",
    "\n",
    "@njit(nopython=True)\n",
    "def test_numpy_yesNumba():\n",
    "    a = np.arange(10**8)\n",
    "    a = a + 1\n",
    "    return a\n"
   ]
  },
  {
   "cell_type": "code",
   "execution_count": 7,
   "metadata": {},
   "outputs": [
    {
     "name": "stdout",
     "output_type": "stream",
     "text": [
      "Time taken in seconds without numba:  4.90257453918457\n",
      "Time taken in seconds with numba:  0.5532357692718506\n",
      "Time taken in seconds without numba and using numpy:  0.32908201217651367\n",
      "Time taken in seconds with numba and using numpy:  0.7844164371490479\n"
     ]
    }
   ],
   "source": [
    "#test how much faster it is to use numba and print teh time\n",
    "\n",
    "start = time.time()\n",
    "test_noNumba()\n",
    "end = time.time()\n",
    "print(\"Time taken in seconds without numba: \", end - start)\n",
    "\n",
    "start = time.time()\n",
    "test_yesNumba()\n",
    "end = time.time()   \n",
    "print(\"Time taken in seconds with numba: \", end - start)\n",
    "\n",
    "start = time.time()\n",
    "test_numpy_noNumba()\n",
    "end = time.time()\n",
    "print(\"Time taken in seconds without numba and using numpy: \", end - start)\n",
    "\n",
    "start = time.time()\n",
    "test_numpy_yesNumba()\n",
    "end = time.time()\n",
    "print(\"Time taken in seconds with numba and using numpy: \", end - start)\n",
    "\n"
   ]
  }
 ],
 "metadata": {
  "kernelspec": {
   "display_name": "Standard_env",
   "language": "python",
   "name": "python3"
  },
  "language_info": {
   "codemirror_mode": {
    "name": "ipython",
    "version": 3
   },
   "file_extension": ".py",
   "mimetype": "text/x-python",
   "name": "python",
   "nbconvert_exporter": "python",
   "pygments_lexer": "ipython3",
   "version": "3.11.5"
  }
 },
 "nbformat": 4,
 "nbformat_minor": 2
}
