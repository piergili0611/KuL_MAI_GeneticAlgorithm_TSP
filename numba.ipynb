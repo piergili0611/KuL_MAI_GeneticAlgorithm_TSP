{
 "cells": [
  {
   "cell_type": "code",
   "execution_count": null,
   "metadata": {},
   "outputs": [],
   "source": []
  },
  {
   "cell_type": "code",
   "execution_count": 1,
   "metadata": {},
   "outputs": [],
   "source": [
    "from numba import njit, prange\n",
    "import time \n",
    "\n"
   ]
  },
  {
   "cell_type": "code",
   "execution_count": 6,
   "metadata": {},
   "outputs": [
    {
     "name": "stderr",
     "output_type": "stream",
     "text": [
      "c:\\Users\\pierg\\Desktop\\VirtualEnvironments\\Standard_env\\Lib\\site-packages\\numba\\core\\decorators.py:246: RuntimeWarning: nopython is set for njit and is ignored\n",
      "  warnings.warn('nopython is set for njit and is ignored', RuntimeWarning)\n"
     ]
    }
   ],
   "source": [
    "@njit(nopython=True, parallel=True)\n",
    "def test_yesNumba():\n",
    "    total = 0\n",
    "    for i in prange(10**8):\n",
    "        total += i + 1\n",
    "    return total\n",
    "\n",
    "def test_noNumba():\n",
    "    for i in range(10**8):\n",
    "        a = i + 1\n",
    "    return a\n",
    "\n",
    "#now also test teh same test but using numpy first with numba and tehn without\n",
    "import numpy as np\n",
    "def test_numpy_noNumba():\n",
    "    a = np.arange(10**8)\n",
    "    a = a + 1\n",
    "    return a\n",
    "\n",
    "@njit(nopython=True)\n",
    "def test_numpy_yesNumba():\n",
    "    a = np.arange(10**8)\n",
    "    a = a + 1\n",
    "    return a\n"
   ]
  },
  {
   "cell_type": "code",
   "execution_count": 7,
   "metadata": {},
   "outputs": [
    {
     "name": "stdout",
     "output_type": "stream",
     "text": [
      "Time taken in seconds without numba:  4.90257453918457\n",
      "Time taken in seconds with numba:  0.5532357692718506\n",
      "Time taken in seconds without numba and using numpy:  0.32908201217651367\n",
      "Time taken in seconds with numba and using numpy:  0.7844164371490479\n"
     ]
    }
   ],
   "source": [
    "#test how much faster it is to use numba and print teh time\n",
    "\n",
    "start = time.time()\n",
    "test_noNumba()\n",
    "end = time.time()\n",
    "print(\"Time taken in seconds without numba: \", end - start)\n",
    "\n",
    "start = time.time()\n",
    "test_yesNumba()\n",
    "end = time.time()   \n",
    "print(\"Time taken in seconds with numba: \", end - start)\n",
    "\n",
    "start = time.time()\n",
    "test_numpy_noNumba()\n",
    "end = time.time()\n",
    "print(\"Time taken in seconds without numba and using numpy: \", end - start)\n",
    "\n",
    "start = time.time()\n",
    "test_numpy_yesNumba()\n",
    "end = time.time()\n",
    "print(\"Time taken in seconds with numba and using numpy: \", end - start)\n",
    "\n"
   ]
  },
  {
   "cell_type": "code",
   "execution_count": null,
   "metadata": {},
   "outputs": [],
   "source": [
    "\n",
    "def calculate_bpd_matrix(population):\n",
    "    \"\"\"\n",
    "    Efficiently calculates the Broken Pair Distance (BPD) for a population of TSP solutions\n",
    "    without explicit loops, using NumPy's broadcasting features.\n",
    "    \n",
    "    Args:\n",
    "    - population (numpy.ndarray): A 2D array where each row is a TSP solution (a permutation of cities).\n",
    "    \n",
    "    Returns:\n",
    "    - bpd_matrix (numpy.ndarray): A matrix of BPD values between each pair of solutions in the population.\n",
    "    \"\"\"\n",
    "    \n",
    "    # Number of solutions (rows) and cities (columns) in the population\n",
    "    num_solutions, num_cities = population.shape\n",
    "    \n",
    "    # Create edge pairs for each solution using roll (shift)\n",
    "    edges = np.column_stack((population, np.roll(population, -1, axis=1)))  # (city, next_city) pairs\n",
    "    \n",
    "    # Broadcast edges of all pairs of solutions to compare them\n",
    "    # Using broadcasting to compare all pairs of solutions in a vectorized way\n",
    "    edges_i = edges[:, None, :]  # Shape: (num_solutions, 1, num_cities)\n",
    "    edges_j = edges[None, :, :]  # Shape: (1, num_solutions, num_cities)\n",
    "    \n",
    "    # Compare the edges between all pairs: where edges are different, we get a `True` (1), else `False` (0)\n",
    "    differences = (edges_i != edges_j).astype(int)\n",
    "    \n",
    "    # Sum the differences to get the BPD for all pairs\n",
    "    bpd_matrix = np.sum(differences, axis=2)  # Sum over the edge dimension (cities)\n",
    "    \n",
    "    return bpd_matrix\n",
    "\n",
    "def average_bpd(population):\n",
    "    \"\"\"\n",
    "    Calculate the average Broken Pair Distance (BPD) for each solution in the population.\n",
    "    \n",
    "    Args:\n",
    "    - population (numpy.ndarray): 2D array where each row is a solution (TSP route).\n",
    "    \n",
    "    Returns:\n",
    "    - avg_bpd (numpy.ndarray): Array of average BPD for each solution in the population.\n",
    "    \"\"\"\n",
    "    bpd_matrix = calculate_bpd_matrix(population)\n",
    "    avg_bpd = np.mean(bpd_matrix, axis=1)  # Calculate average BPD for each solution\n",
    "    return avg_bpd\n",
    "\n",
    "\n",
    "def fitness_function_calculation(population, weight_distance, weight_bdp, distance_matrix):\n",
    "    '''\n",
    "    - Calculate the fitness of the population based on the distance and the broken pair distance.\n",
    "    \n",
    "    Args:\n",
    "    - population (numpy.ndarray): 2D array where each row is a TSP solution (a permutation of cities).\n",
    "    - weight_distance (float): Weight factor for distance contribution to fitness.\n",
    "    - weight_bdp (float): Weight factor for BPD contribution to fitness.\n",
    "    - distance_matrix (numpy.ndarray): Precomputed distance matrix for the cities.\n",
    "    \n",
    "    Returns:\n",
    "    - fitness (numpy.ndarray): Array of fitness values for each solution in the population.\n",
    "    '''\n",
    "    # Step 1: Calculate the distance fitness\n",
    "    distance_fitness = calculate_distance_numpy(population, distance_matrix)\n",
    "    \n",
    "    # Step 2: Calculate the BPD fitness (average BPD for each solution)\n",
    "    avg_bpd = average_bpd(population)\n",
    "    \n",
    "    # Step 3: Calculate the fitness using both distance and BPD\n",
    "    fitness = 1 / (weight_distance * distance_fitness) + weight_bdp * avg_bpd\n",
    "    \n",
    "    return fitness, distance_fitness, avg_bpd\n",
    "\n",
    "\n",
    "\n",
    "\n"
   ]
  }
 ],
 "metadata": {
  "kernelspec": {
   "display_name": "Standard_env",
   "language": "python",
   "name": "python3"
  },
  "language_info": {
   "codemirror_mode": {
    "name": "ipython",
    "version": 3
   },
   "file_extension": ".py",
   "mimetype": "text/x-python",
   "name": "python",
   "nbconvert_exporter": "python",
   "pygments_lexer": "ipython3",
   "version": "3.11.5"
  }
 },
 "nbformat": 4,
 "nbformat_minor": 2
}
